{
  "cells": [
    {
      "cell_type": "markdown",
      "metadata": {
        "id": "V_cyic5OEp9T"
      },
      "source": [
        "***Importing Necessary Libraries***\n",
        "\n",
        "---\n",
        "\n"
      ]
    },
    {
      "cell_type": "code",
      "execution_count": 365,
      "metadata": {
        "id": "hww-mNF_7SZZ"
      },
      "outputs": [],
      "source": [
        "import pandas as pd\n",
        "import numpy as np\n",
        "import seaborn as sns"
      ]
    },
    {
      "cell_type": "code",
      "execution_count": 366,
      "metadata": {
        "id": "DRJk2H_S7l4Y"
      },
      "outputs": [],
      "source": [
        "# Visualization\n",
        "import plotly.express as px\n",
        "import plotly.subplots as sp\n",
        "import plotly.graph_objs as go\n",
        "import matplotlib.pyplot as plt\n",
        "colors = px.colors.sequential.Plasma_r"
      ]
    },
    {
      "cell_type": "code",
      "execution_count": 367,
      "metadata": {
        "id": "QX1dAfGG7oWU"
      },
      "outputs": [],
      "source": [
        "# Preprocessing\n",
        "from sklearn.preprocessing import OneHotEncoder\n",
        "from sklearn.preprocessing import LabelEncoder\n",
        "from sklearn.model_selection import train_test_split\n",
        "from sklearn.preprocessing import StandardScaler\n",
        "from imblearn.over_sampling import SMOTE"
      ]
    },
    {
      "cell_type": "code",
      "execution_count": 368,
      "metadata": {
        "id": "g-5zOQy27rvD"
      },
      "outputs": [],
      "source": [
        "# Models\n",
        "from sklearn.linear_model import LogisticRegression\n",
        "from sklearn.ensemble import RandomForestClassifier"
      ]
    },
    {
      "cell_type": "code",
      "execution_count": 369,
      "metadata": {
        "id": "x9BhZXKr7vks"
      },
      "outputs": [],
      "source": [
        "# Metrics\n",
        "from sklearn.metrics import accuracy_score, precision_score, recall_score, f1_score, classification_report\n",
        "from sklearn.metrics import roc_curve, auc"
      ]
    },
    {
      "cell_type": "code",
      "execution_count": 370,
      "metadata": {
        "id": "X3-48b6n7yKR"
      },
      "outputs": [],
      "source": [
        "# Warnings\n",
        "import warnings\n",
        "warnings. filterwarnings('ignore')"
      ]
    },
    {
      "cell_type": "code",
      "execution_count": 371,
      "metadata": {
        "id": "-7RXlvok785O"
      },
      "outputs": [],
      "source": [
        "heart = pd.read_csv('C:/Users/krish/Desktop/salo/ML/ML&SM dataset.csv')"
      ]
    },
    {
      "cell_type": "markdown",
      "metadata": {
        "id": "67g5Pn_uE-cW"
      },
      "source": [
        "**Understanding the Data**\n",
        "\n",
        "---\n",
        "\n"
      ]
    },
    {
      "cell_type": "code",
      "execution_count": 372,
      "metadata": {
        "colab": {
          "base_uri": "https://localhost:8080/",
          "height": 399
        },
        "id": "H-xToGjK84Q3",
        "outputId": "dbd43d11-5eb0-4200-b8ae-4aad70a0d5f0"
      },
      "outputs": [
        {
          "data": {
            "text/html": [
              "<div>\n",
              "<style scoped>\n",
              "    .dataframe tbody tr th:only-of-type {\n",
              "        vertical-align: middle;\n",
              "    }\n",
              "\n",
              "    .dataframe tbody tr th {\n",
              "        vertical-align: top;\n",
              "    }\n",
              "\n",
              "    .dataframe thead th {\n",
              "        text-align: right;\n",
              "    }\n",
              "</style>\n",
              "<table border=\"1\" class=\"dataframe\">\n",
              "  <thead>\n",
              "    <tr style=\"text-align: right;\">\n",
              "      <th></th>\n",
              "      <th>General_Health</th>\n",
              "      <th>Checkup</th>\n",
              "      <th>Exercise</th>\n",
              "      <th>Heart_Disease</th>\n",
              "      <th>Skin_Cancer</th>\n",
              "      <th>Other_Cancer</th>\n",
              "      <th>Depression</th>\n",
              "      <th>Diabetes</th>\n",
              "      <th>Arthritis</th>\n",
              "      <th>Sex</th>\n",
              "      <th>Age_Category</th>\n",
              "      <th>Height_(cm)</th>\n",
              "      <th>Weight_(kg)</th>\n",
              "      <th>BMI</th>\n",
              "      <th>Smoking_History</th>\n",
              "      <th>Alcohol_Consumption</th>\n",
              "      <th>Fruit_Consumption</th>\n",
              "      <th>Green_Vegetables_Consumption</th>\n",
              "      <th>FriedPotato_Consumption</th>\n",
              "    </tr>\n",
              "  </thead>\n",
              "  <tbody>\n",
              "    <tr>\n",
              "      <th>0</th>\n",
              "      <td>Poor</td>\n",
              "      <td>Within the past 2 years</td>\n",
              "      <td>No</td>\n",
              "      <td>No</td>\n",
              "      <td>No</td>\n",
              "      <td>No</td>\n",
              "      <td>No</td>\n",
              "      <td>No</td>\n",
              "      <td>Yes</td>\n",
              "      <td>Female</td>\n",
              "      <td>70-74</td>\n",
              "      <td>150.0</td>\n",
              "      <td>32.66</td>\n",
              "      <td>14.54</td>\n",
              "      <td>Yes</td>\n",
              "      <td>0.0</td>\n",
              "      <td>30.0</td>\n",
              "      <td>16.0</td>\n",
              "      <td>12.0</td>\n",
              "    </tr>\n",
              "    <tr>\n",
              "      <th>1</th>\n",
              "      <td>Very Good</td>\n",
              "      <td>Within the past year</td>\n",
              "      <td>No</td>\n",
              "      <td>Yes</td>\n",
              "      <td>No</td>\n",
              "      <td>No</td>\n",
              "      <td>No</td>\n",
              "      <td>Yes</td>\n",
              "      <td>No</td>\n",
              "      <td>Female</td>\n",
              "      <td>70-74</td>\n",
              "      <td>165.0</td>\n",
              "      <td>77.11</td>\n",
              "      <td>28.29</td>\n",
              "      <td>No</td>\n",
              "      <td>0.0</td>\n",
              "      <td>30.0</td>\n",
              "      <td>0.0</td>\n",
              "      <td>4.0</td>\n",
              "    </tr>\n",
              "    <tr>\n",
              "      <th>2</th>\n",
              "      <td>Very Good</td>\n",
              "      <td>Within the past year</td>\n",
              "      <td>Yes</td>\n",
              "      <td>No</td>\n",
              "      <td>No</td>\n",
              "      <td>No</td>\n",
              "      <td>No</td>\n",
              "      <td>Yes</td>\n",
              "      <td>No</td>\n",
              "      <td>Female</td>\n",
              "      <td>60-64</td>\n",
              "      <td>163.0</td>\n",
              "      <td>88.45</td>\n",
              "      <td>33.47</td>\n",
              "      <td>No</td>\n",
              "      <td>4.0</td>\n",
              "      <td>12.0</td>\n",
              "      <td>3.0</td>\n",
              "      <td>16.0</td>\n",
              "    </tr>\n",
              "    <tr>\n",
              "      <th>3</th>\n",
              "      <td>Poor</td>\n",
              "      <td>Within the past year</td>\n",
              "      <td>Yes</td>\n",
              "      <td>Yes</td>\n",
              "      <td>No</td>\n",
              "      <td>No</td>\n",
              "      <td>No</td>\n",
              "      <td>Yes</td>\n",
              "      <td>No</td>\n",
              "      <td>Male</td>\n",
              "      <td>75-79</td>\n",
              "      <td>180.0</td>\n",
              "      <td>93.44</td>\n",
              "      <td>28.73</td>\n",
              "      <td>No</td>\n",
              "      <td>0.0</td>\n",
              "      <td>30.0</td>\n",
              "      <td>30.0</td>\n",
              "      <td>8.0</td>\n",
              "    </tr>\n",
              "    <tr>\n",
              "      <th>4</th>\n",
              "      <td>Good</td>\n",
              "      <td>Within the past year</td>\n",
              "      <td>No</td>\n",
              "      <td>No</td>\n",
              "      <td>No</td>\n",
              "      <td>No</td>\n",
              "      <td>No</td>\n",
              "      <td>No</td>\n",
              "      <td>No</td>\n",
              "      <td>Male</td>\n",
              "      <td>80+</td>\n",
              "      <td>191.0</td>\n",
              "      <td>88.45</td>\n",
              "      <td>24.37</td>\n",
              "      <td>Yes</td>\n",
              "      <td>0.0</td>\n",
              "      <td>8.0</td>\n",
              "      <td>4.0</td>\n",
              "      <td>0.0</td>\n",
              "    </tr>\n",
              "  </tbody>\n",
              "</table>\n",
              "</div>"
            ],
            "text/plain": [
              "  General_Health                  Checkup Exercise Heart_Disease Skin_Cancer  \\\n",
              "0           Poor  Within the past 2 years       No            No          No   \n",
              "1      Very Good     Within the past year       No           Yes          No   \n",
              "2      Very Good     Within the past year      Yes            No          No   \n",
              "3           Poor     Within the past year      Yes           Yes          No   \n",
              "4           Good     Within the past year       No            No          No   \n",
              "\n",
              "  Other_Cancer Depression Diabetes Arthritis     Sex Age_Category  \\\n",
              "0           No         No       No       Yes  Female        70-74   \n",
              "1           No         No      Yes        No  Female        70-74   \n",
              "2           No         No      Yes        No  Female        60-64   \n",
              "3           No         No      Yes        No    Male        75-79   \n",
              "4           No         No       No        No    Male          80+   \n",
              "\n",
              "   Height_(cm)  Weight_(kg)    BMI Smoking_History  Alcohol_Consumption  \\\n",
              "0        150.0        32.66  14.54             Yes                  0.0   \n",
              "1        165.0        77.11  28.29              No                  0.0   \n",
              "2        163.0        88.45  33.47              No                  4.0   \n",
              "3        180.0        93.44  28.73              No                  0.0   \n",
              "4        191.0        88.45  24.37             Yes                  0.0   \n",
              "\n",
              "   Fruit_Consumption  Green_Vegetables_Consumption  FriedPotato_Consumption  \n",
              "0               30.0                          16.0                     12.0  \n",
              "1               30.0                           0.0                      4.0  \n",
              "2               12.0                           3.0                     16.0  \n",
              "3               30.0                          30.0                      8.0  \n",
              "4                8.0                           4.0                      0.0  "
            ]
          },
          "execution_count": 372,
          "metadata": {},
          "output_type": "execute_result"
        }
      ],
      "source": [
        "heart.head()"
      ]
    },
    {
      "cell_type": "code",
      "execution_count": 373,
      "metadata": {
        "colab": {
          "base_uri": "https://localhost:8080/"
        },
        "id": "-ubI3Ry7-YMY",
        "outputId": "8e0b10a4-bcd5-434f-9fcb-9b8b0f9eeae2"
      },
      "outputs": [
        {
          "name": "stdout",
          "output_type": "stream",
          "text": [
            "<class 'pandas.core.frame.DataFrame'>\n",
            "RangeIndex: 308854 entries, 0 to 308853\n",
            "Data columns (total 19 columns):\n",
            " #   Column                        Non-Null Count   Dtype  \n",
            "---  ------                        --------------   -----  \n",
            " 0   General_Health                308854 non-null  object \n",
            " 1   Checkup                       308854 non-null  object \n",
            " 2   Exercise                      308854 non-null  object \n",
            " 3   Heart_Disease                 308854 non-null  object \n",
            " 4   Skin_Cancer                   308854 non-null  object \n",
            " 5   Other_Cancer                  308854 non-null  object \n",
            " 6   Depression                    308854 non-null  object \n",
            " 7   Diabetes                      308854 non-null  object \n",
            " 8   Arthritis                     308854 non-null  object \n",
            " 9   Sex                           308854 non-null  object \n",
            " 10  Age_Category                  308854 non-null  object \n",
            " 11  Height_(cm)                   308854 non-null  float64\n",
            " 12  Weight_(kg)                   308854 non-null  float64\n",
            " 13  BMI                           308854 non-null  float64\n",
            " 14  Smoking_History               308854 non-null  object \n",
            " 15  Alcohol_Consumption           308854 non-null  float64\n",
            " 16  Fruit_Consumption             308854 non-null  float64\n",
            " 17  Green_Vegetables_Consumption  308854 non-null  float64\n",
            " 18  FriedPotato_Consumption       308854 non-null  float64\n",
            "dtypes: float64(7), object(12)\n",
            "memory usage: 44.8+ MB\n"
          ]
        }
      ],
      "source": [
        "heart.info()"
      ]
    },
    {
      "cell_type": "code",
      "execution_count": 374,
      "metadata": {
        "colab": {
          "base_uri": "https://localhost:8080/"
        },
        "id": "peofJPPO-aha",
        "outputId": "67ebdb21-749a-47b8-eeea-43a72d91c368"
      },
      "outputs": [
        {
          "data": {
            "text/plain": [
              "(308854, 19)"
            ]
          },
          "execution_count": 374,
          "metadata": {},
          "output_type": "execute_result"
        }
      ],
      "source": [
        "heart.shape"
      ]
    },
    {
      "cell_type": "code",
      "execution_count": 375,
      "metadata": {},
      "outputs": [],
      "source": [
        "heart = heart.drop_duplicates()"
      ]
    },
    {
      "cell_type": "code",
      "execution_count": 376,
      "metadata": {
        "colab": {
          "base_uri": "https://localhost:8080/"
        },
        "id": "ZAl5Pzb5-cye",
        "outputId": "07594a61-0ccb-48c9-eb29-fe81b4d66161"
      },
      "outputs": [
        {
          "data": {
            "text/plain": [
              "General_Health                  0\n",
              "Checkup                         0\n",
              "Exercise                        0\n",
              "Heart_Disease                   0\n",
              "Skin_Cancer                     0\n",
              "Other_Cancer                    0\n",
              "Depression                      0\n",
              "Diabetes                        0\n",
              "Arthritis                       0\n",
              "Sex                             0\n",
              "Age_Category                    0\n",
              "Height_(cm)                     0\n",
              "Weight_(kg)                     0\n",
              "BMI                             0\n",
              "Smoking_History                 0\n",
              "Alcohol_Consumption             0\n",
              "Fruit_Consumption               0\n",
              "Green_Vegetables_Consumption    0\n",
              "FriedPotato_Consumption         0\n",
              "dtype: int64"
            ]
          },
          "execution_count": 376,
          "metadata": {},
          "output_type": "execute_result"
        }
      ],
      "source": [
        "heart.isnull().sum()"
      ]
    },
    {
      "cell_type": "code",
      "execution_count": 377,
      "metadata": {
        "colab": {
          "base_uri": "https://localhost:8080/"
        },
        "id": "mSP19qTz-ngf",
        "outputId": "abbb1de2-934c-4bbc-e955-2ece1b8ba9fc"
      },
      "outputs": [
        {
          "name": "stdout",
          "output_type": "stream",
          "text": [
            "Column name: General_Health\n",
            "['Poor' 'Very Good' 'Good' 'Fair' 'Excellent']\n",
            "\n",
            " -------------------------------------------------------------------------------- \n",
            "\n",
            "Column name: Checkup\n",
            "['Within the past 2 years' 'Within the past year' '5 or more years ago'\n",
            " 'Within the past 5 years' 'Never']\n",
            "\n",
            " -------------------------------------------------------------------------------- \n",
            "\n",
            "Column name: Exercise\n",
            "['No' 'Yes']\n",
            "\n",
            " -------------------------------------------------------------------------------- \n",
            "\n",
            "Column name: Heart_Disease\n",
            "['No' 'Yes']\n",
            "\n",
            " -------------------------------------------------------------------------------- \n",
            "\n",
            "Column name: Skin_Cancer\n",
            "['No' 'Yes']\n",
            "\n",
            " -------------------------------------------------------------------------------- \n",
            "\n",
            "Column name: Other_Cancer\n",
            "['No' 'Yes']\n",
            "\n",
            " -------------------------------------------------------------------------------- \n",
            "\n",
            "Column name: Depression\n",
            "['No' 'Yes']\n",
            "\n",
            " -------------------------------------------------------------------------------- \n",
            "\n",
            "Column name: Diabetes\n",
            "['No' 'Yes' 'No, pre-diabetes or borderline diabetes'\n",
            " 'Yes, but female told only during pregnancy']\n",
            "\n",
            " -------------------------------------------------------------------------------- \n",
            "\n",
            "Column name: Arthritis\n",
            "['Yes' 'No']\n",
            "\n",
            " -------------------------------------------------------------------------------- \n",
            "\n",
            "Column name: Sex\n",
            "['Female' 'Male']\n",
            "\n",
            " -------------------------------------------------------------------------------- \n",
            "\n",
            "Column name: Age_Category\n",
            "['70-74' '60-64' '75-79' '80+' '65-69' '50-54' '45-49' '18-24' '30-34'\n",
            " '55-59' '35-39' '40-44' '25-29']\n",
            "\n",
            " -------------------------------------------------------------------------------- \n",
            "\n",
            "Column name: Smoking_History\n",
            "['Yes' 'No']\n",
            "\n",
            " -------------------------------------------------------------------------------- \n",
            "\n"
          ]
        }
      ],
      "source": [
        "# checking for typos in the categorical columns\n",
        "for col in heart.select_dtypes(include = \"object\"):\n",
        "    print(f\"Column name: {col}\")\n",
        "    print(heart[col].unique())\n",
        "    print('\\n', '-'*80, '\\n')\n"
      ]
    },
    {
      "cell_type": "code",
      "execution_count": 378,
      "metadata": {
        "id": "QpMhZVhBEOkF"
      },
      "outputs": [],
      "source": [
        "heart['Checkup'] = heart['Checkup'].replace('Within the past 2 years', 'Past 2 years')\n",
        "heart['Checkup'] = heart['Checkup'].replace('Within the past year', 'Past 1 year')\n",
        "heart['Checkup'] = heart['Checkup'].replace('Within the past 5 years', 'Past 5 years')\n",
        "heart['Checkup'] = heart['Checkup'].replace('5 or more years ago', 'More than 5 years')\n",
        "\n",
        "\n",
        "heart['Diabetes'] = heart['Diabetes'].replace('No, pre-diabetes or borderline diabetes', 'No Pre Diabetes')\n",
        "heart['Diabetes'] = heart['Diabetes'].replace('Yes, but female told only during pregnancy', 'Only during pregnancy')\n",
        "\n",
        "heart['Age_Category'] = heart['Age_Category'].replace('18-24', 'Young')\n",
        "heart['Age_Category'] = heart['Age_Category'].replace('25-29', 'Adult')\n",
        "heart['Age_Category'] = heart['Age_Category'].replace('30-34', 'Adult')\n",
        "heart['Age_Category'] = heart['Age_Category'].replace('35-39', 'Adult')\n",
        "heart['Age_Category'] = heart['Age_Category'].replace('40-44', 'Mid-Aged')\n",
        "heart['Age_Category'] = heart['Age_Category'].replace('45-49', 'Mid-Aged')\n",
        "heart['Age_Category'] = heart['Age_Category'].replace('50-54', 'Mid-Aged')\n",
        "heart['Age_Category'] = heart['Age_Category'].replace('55-59', 'Senior-Adult')\n",
        "heart['Age_Category'] = heart['Age_Category'].replace('60-64', 'Senior-Adult')\n",
        "heart['Age_Category'] = heart['Age_Category'].replace('65-69', 'Elderly')\n",
        "heart['Age_Category'] = heart['Age_Category'].replace('70-74', 'Elderly')\n",
        "heart['Age_Category'] = heart['Age_Category'].replace('75-79', 'Elderly')\n",
        "heart['Age_Category'] = heart['Age_Category'].replace('80+', 'Elderly')"
      ]
    },
    {
      "cell_type": "code",
      "execution_count": 379,
      "metadata": {},
      "outputs": [
        {
          "data": {
            "text/html": [
              "<div>\n",
              "<style scoped>\n",
              "    .dataframe tbody tr th:only-of-type {\n",
              "        vertical-align: middle;\n",
              "    }\n",
              "\n",
              "    .dataframe tbody tr th {\n",
              "        vertical-align: top;\n",
              "    }\n",
              "\n",
              "    .dataframe thead th {\n",
              "        text-align: right;\n",
              "    }\n",
              "</style>\n",
              "<table border=\"1\" class=\"dataframe\">\n",
              "  <thead>\n",
              "    <tr style=\"text-align: right;\">\n",
              "      <th></th>\n",
              "      <th>General_Health</th>\n",
              "      <th>Checkup</th>\n",
              "      <th>Exercise</th>\n",
              "      <th>Heart_Disease</th>\n",
              "      <th>Skin_Cancer</th>\n",
              "      <th>Other_Cancer</th>\n",
              "      <th>Depression</th>\n",
              "      <th>Diabetes</th>\n",
              "      <th>Arthritis</th>\n",
              "      <th>Sex</th>\n",
              "      <th>Age_Category</th>\n",
              "      <th>Height_(cm)</th>\n",
              "      <th>Weight_(kg)</th>\n",
              "      <th>BMI</th>\n",
              "      <th>Smoking_History</th>\n",
              "      <th>Alcohol_Consumption</th>\n",
              "      <th>Fruit_Consumption</th>\n",
              "      <th>Green_Vegetables_Consumption</th>\n",
              "      <th>FriedPotato_Consumption</th>\n",
              "    </tr>\n",
              "  </thead>\n",
              "  <tbody>\n",
              "    <tr>\n",
              "      <th>0</th>\n",
              "      <td>Poor</td>\n",
              "      <td>Past 2 years</td>\n",
              "      <td>No</td>\n",
              "      <td>No</td>\n",
              "      <td>No</td>\n",
              "      <td>No</td>\n",
              "      <td>No</td>\n",
              "      <td>No</td>\n",
              "      <td>Yes</td>\n",
              "      <td>Female</td>\n",
              "      <td>Elderly</td>\n",
              "      <td>150.0</td>\n",
              "      <td>32.66</td>\n",
              "      <td>14.54</td>\n",
              "      <td>Yes</td>\n",
              "      <td>0.0</td>\n",
              "      <td>30.0</td>\n",
              "      <td>16.0</td>\n",
              "      <td>12.0</td>\n",
              "    </tr>\n",
              "    <tr>\n",
              "      <th>1</th>\n",
              "      <td>Very Good</td>\n",
              "      <td>Past 1 year</td>\n",
              "      <td>No</td>\n",
              "      <td>Yes</td>\n",
              "      <td>No</td>\n",
              "      <td>No</td>\n",
              "      <td>No</td>\n",
              "      <td>Yes</td>\n",
              "      <td>No</td>\n",
              "      <td>Female</td>\n",
              "      <td>Elderly</td>\n",
              "      <td>165.0</td>\n",
              "      <td>77.11</td>\n",
              "      <td>28.29</td>\n",
              "      <td>No</td>\n",
              "      <td>0.0</td>\n",
              "      <td>30.0</td>\n",
              "      <td>0.0</td>\n",
              "      <td>4.0</td>\n",
              "    </tr>\n",
              "    <tr>\n",
              "      <th>2</th>\n",
              "      <td>Very Good</td>\n",
              "      <td>Past 1 year</td>\n",
              "      <td>Yes</td>\n",
              "      <td>No</td>\n",
              "      <td>No</td>\n",
              "      <td>No</td>\n",
              "      <td>No</td>\n",
              "      <td>Yes</td>\n",
              "      <td>No</td>\n",
              "      <td>Female</td>\n",
              "      <td>Senior-Adult</td>\n",
              "      <td>163.0</td>\n",
              "      <td>88.45</td>\n",
              "      <td>33.47</td>\n",
              "      <td>No</td>\n",
              "      <td>4.0</td>\n",
              "      <td>12.0</td>\n",
              "      <td>3.0</td>\n",
              "      <td>16.0</td>\n",
              "    </tr>\n",
              "    <tr>\n",
              "      <th>3</th>\n",
              "      <td>Poor</td>\n",
              "      <td>Past 1 year</td>\n",
              "      <td>Yes</td>\n",
              "      <td>Yes</td>\n",
              "      <td>No</td>\n",
              "      <td>No</td>\n",
              "      <td>No</td>\n",
              "      <td>Yes</td>\n",
              "      <td>No</td>\n",
              "      <td>Male</td>\n",
              "      <td>Elderly</td>\n",
              "      <td>180.0</td>\n",
              "      <td>93.44</td>\n",
              "      <td>28.73</td>\n",
              "      <td>No</td>\n",
              "      <td>0.0</td>\n",
              "      <td>30.0</td>\n",
              "      <td>30.0</td>\n",
              "      <td>8.0</td>\n",
              "    </tr>\n",
              "    <tr>\n",
              "      <th>4</th>\n",
              "      <td>Good</td>\n",
              "      <td>Past 1 year</td>\n",
              "      <td>No</td>\n",
              "      <td>No</td>\n",
              "      <td>No</td>\n",
              "      <td>No</td>\n",
              "      <td>No</td>\n",
              "      <td>No</td>\n",
              "      <td>No</td>\n",
              "      <td>Male</td>\n",
              "      <td>Elderly</td>\n",
              "      <td>191.0</td>\n",
              "      <td>88.45</td>\n",
              "      <td>24.37</td>\n",
              "      <td>Yes</td>\n",
              "      <td>0.0</td>\n",
              "      <td>8.0</td>\n",
              "      <td>4.0</td>\n",
              "      <td>0.0</td>\n",
              "    </tr>\n",
              "    <tr>\n",
              "      <th>...</th>\n",
              "      <td>...</td>\n",
              "      <td>...</td>\n",
              "      <td>...</td>\n",
              "      <td>...</td>\n",
              "      <td>...</td>\n",
              "      <td>...</td>\n",
              "      <td>...</td>\n",
              "      <td>...</td>\n",
              "      <td>...</td>\n",
              "      <td>...</td>\n",
              "      <td>...</td>\n",
              "      <td>...</td>\n",
              "      <td>...</td>\n",
              "      <td>...</td>\n",
              "      <td>...</td>\n",
              "      <td>...</td>\n",
              "      <td>...</td>\n",
              "      <td>...</td>\n",
              "      <td>...</td>\n",
              "    </tr>\n",
              "    <tr>\n",
              "      <th>308849</th>\n",
              "      <td>Very Good</td>\n",
              "      <td>Past 1 year</td>\n",
              "      <td>Yes</td>\n",
              "      <td>No</td>\n",
              "      <td>No</td>\n",
              "      <td>No</td>\n",
              "      <td>No</td>\n",
              "      <td>No</td>\n",
              "      <td>No</td>\n",
              "      <td>Male</td>\n",
              "      <td>Adult</td>\n",
              "      <td>168.0</td>\n",
              "      <td>81.65</td>\n",
              "      <td>29.05</td>\n",
              "      <td>No</td>\n",
              "      <td>4.0</td>\n",
              "      <td>30.0</td>\n",
              "      <td>8.0</td>\n",
              "      <td>0.0</td>\n",
              "    </tr>\n",
              "    <tr>\n",
              "      <th>308850</th>\n",
              "      <td>Fair</td>\n",
              "      <td>Past 5 years</td>\n",
              "      <td>Yes</td>\n",
              "      <td>No</td>\n",
              "      <td>No</td>\n",
              "      <td>No</td>\n",
              "      <td>No</td>\n",
              "      <td>Yes</td>\n",
              "      <td>No</td>\n",
              "      <td>Male</td>\n",
              "      <td>Elderly</td>\n",
              "      <td>180.0</td>\n",
              "      <td>69.85</td>\n",
              "      <td>21.48</td>\n",
              "      <td>No</td>\n",
              "      <td>8.0</td>\n",
              "      <td>15.0</td>\n",
              "      <td>60.0</td>\n",
              "      <td>4.0</td>\n",
              "    </tr>\n",
              "    <tr>\n",
              "      <th>308851</th>\n",
              "      <td>Very Good</td>\n",
              "      <td>More than 5 years</td>\n",
              "      <td>Yes</td>\n",
              "      <td>No</td>\n",
              "      <td>No</td>\n",
              "      <td>No</td>\n",
              "      <td>Yes</td>\n",
              "      <td>Only during pregnancy</td>\n",
              "      <td>No</td>\n",
              "      <td>Female</td>\n",
              "      <td>Adult</td>\n",
              "      <td>157.0</td>\n",
              "      <td>61.23</td>\n",
              "      <td>24.69</td>\n",
              "      <td>Yes</td>\n",
              "      <td>4.0</td>\n",
              "      <td>40.0</td>\n",
              "      <td>8.0</td>\n",
              "      <td>4.0</td>\n",
              "    </tr>\n",
              "    <tr>\n",
              "      <th>308852</th>\n",
              "      <td>Very Good</td>\n",
              "      <td>Past 1 year</td>\n",
              "      <td>Yes</td>\n",
              "      <td>No</td>\n",
              "      <td>No</td>\n",
              "      <td>No</td>\n",
              "      <td>No</td>\n",
              "      <td>No</td>\n",
              "      <td>No</td>\n",
              "      <td>Male</td>\n",
              "      <td>Elderly</td>\n",
              "      <td>183.0</td>\n",
              "      <td>79.38</td>\n",
              "      <td>23.73</td>\n",
              "      <td>No</td>\n",
              "      <td>3.0</td>\n",
              "      <td>30.0</td>\n",
              "      <td>12.0</td>\n",
              "      <td>0.0</td>\n",
              "    </tr>\n",
              "    <tr>\n",
              "      <th>308853</th>\n",
              "      <td>Excellent</td>\n",
              "      <td>Past 1 year</td>\n",
              "      <td>Yes</td>\n",
              "      <td>No</td>\n",
              "      <td>No</td>\n",
              "      <td>No</td>\n",
              "      <td>No</td>\n",
              "      <td>No</td>\n",
              "      <td>No</td>\n",
              "      <td>Female</td>\n",
              "      <td>Mid-Aged</td>\n",
              "      <td>160.0</td>\n",
              "      <td>81.19</td>\n",
              "      <td>31.71</td>\n",
              "      <td>No</td>\n",
              "      <td>1.0</td>\n",
              "      <td>5.0</td>\n",
              "      <td>12.0</td>\n",
              "      <td>1.0</td>\n",
              "    </tr>\n",
              "  </tbody>\n",
              "</table>\n",
              "<p>308774 rows × 19 columns</p>\n",
              "</div>"
            ],
            "text/plain": [
              "       General_Health            Checkup Exercise Heart_Disease Skin_Cancer  \\\n",
              "0                Poor       Past 2 years       No            No          No   \n",
              "1           Very Good        Past 1 year       No           Yes          No   \n",
              "2           Very Good        Past 1 year      Yes            No          No   \n",
              "3                Poor        Past 1 year      Yes           Yes          No   \n",
              "4                Good        Past 1 year       No            No          No   \n",
              "...               ...                ...      ...           ...         ...   \n",
              "308849      Very Good        Past 1 year      Yes            No          No   \n",
              "308850           Fair       Past 5 years      Yes            No          No   \n",
              "308851      Very Good  More than 5 years      Yes            No          No   \n",
              "308852      Very Good        Past 1 year      Yes            No          No   \n",
              "308853      Excellent        Past 1 year      Yes            No          No   \n",
              "\n",
              "       Other_Cancer Depression               Diabetes Arthritis     Sex  \\\n",
              "0                No         No                     No       Yes  Female   \n",
              "1                No         No                    Yes        No  Female   \n",
              "2                No         No                    Yes        No  Female   \n",
              "3                No         No                    Yes        No    Male   \n",
              "4                No         No                     No        No    Male   \n",
              "...             ...        ...                    ...       ...     ...   \n",
              "308849           No         No                     No        No    Male   \n",
              "308850           No         No                    Yes        No    Male   \n",
              "308851           No        Yes  Only during pregnancy        No  Female   \n",
              "308852           No         No                     No        No    Male   \n",
              "308853           No         No                     No        No  Female   \n",
              "\n",
              "        Age_Category  Height_(cm)  Weight_(kg)    BMI Smoking_History  \\\n",
              "0            Elderly        150.0        32.66  14.54             Yes   \n",
              "1            Elderly        165.0        77.11  28.29              No   \n",
              "2       Senior-Adult        163.0        88.45  33.47              No   \n",
              "3            Elderly        180.0        93.44  28.73              No   \n",
              "4            Elderly        191.0        88.45  24.37             Yes   \n",
              "...              ...          ...          ...    ...             ...   \n",
              "308849         Adult        168.0        81.65  29.05              No   \n",
              "308850       Elderly        180.0        69.85  21.48              No   \n",
              "308851         Adult        157.0        61.23  24.69             Yes   \n",
              "308852       Elderly        183.0        79.38  23.73              No   \n",
              "308853      Mid-Aged        160.0        81.19  31.71              No   \n",
              "\n",
              "        Alcohol_Consumption  Fruit_Consumption  Green_Vegetables_Consumption  \\\n",
              "0                       0.0               30.0                          16.0   \n",
              "1                       0.0               30.0                           0.0   \n",
              "2                       4.0               12.0                           3.0   \n",
              "3                       0.0               30.0                          30.0   \n",
              "4                       0.0                8.0                           4.0   \n",
              "...                     ...                ...                           ...   \n",
              "308849                  4.0               30.0                           8.0   \n",
              "308850                  8.0               15.0                          60.0   \n",
              "308851                  4.0               40.0                           8.0   \n",
              "308852                  3.0               30.0                          12.0   \n",
              "308853                  1.0                5.0                          12.0   \n",
              "\n",
              "        FriedPotato_Consumption  \n",
              "0                          12.0  \n",
              "1                           4.0  \n",
              "2                          16.0  \n",
              "3                           8.0  \n",
              "4                           0.0  \n",
              "...                         ...  \n",
              "308849                      0.0  \n",
              "308850                      4.0  \n",
              "308851                      4.0  \n",
              "308852                      0.0  \n",
              "308853                      1.0  \n",
              "\n",
              "[308774 rows x 19 columns]"
            ]
          },
          "execution_count": 379,
          "metadata": {},
          "output_type": "execute_result"
        }
      ],
      "source": [
        "heart"
      ]
    },
    {
      "cell_type": "markdown",
      "metadata": {
        "id": "78d7xGRdF982"
      },
      "source": [
        "**Descriptive Analaysis**\n",
        "\n",
        "---\n",
        "\n"
      ]
    },
    {
      "cell_type": "code",
      "execution_count": 381,
      "metadata": {},
      "outputs": [
        {
          "data": {
            "text/plain": [
              "Index(['General_Health', 'Checkup', 'Exercise', 'Heart_Disease', 'Skin_Cancer',\n",
              "       'Other_Cancer', 'Depression', 'Diabetes', 'Arthritis', 'Sex',\n",
              "       'Age_Category', 'Height_(cm)', 'Weight_(kg)', 'BMI', 'Smoking_History',\n",
              "       'Alcohol_Consumption', 'Fruit_Consumption',\n",
              "       'Green_Vegetables_Consumption', 'FriedPotato_Consumption'],\n",
              "      dtype='object')"
            ]
          },
          "execution_count": 381,
          "metadata": {},
          "output_type": "execute_result"
        }
      ],
      "source": [
        "heart.columns"
      ]
    },
    {
      "cell_type": "code",
      "execution_count": 382,
      "metadata": {
        "colab": {
          "base_uri": "https://localhost:8080/",
          "height": 212
        },
        "id": "ZYJ0xVR8GCyK",
        "outputId": "9788537e-6110-4ca8-d394-4acc24cb46de"
      },
      "outputs": [
        {
          "data": {
            "text/html": [
              "<div>\n",
              "<style scoped>\n",
              "    .dataframe tbody tr th:only-of-type {\n",
              "        vertical-align: middle;\n",
              "    }\n",
              "\n",
              "    .dataframe tbody tr th {\n",
              "        vertical-align: top;\n",
              "    }\n",
              "\n",
              "    .dataframe thead th {\n",
              "        text-align: right;\n",
              "    }\n",
              "</style>\n",
              "<table border=\"1\" class=\"dataframe\">\n",
              "  <thead>\n",
              "    <tr style=\"text-align: right;\">\n",
              "      <th></th>\n",
              "      <th>General_Health</th>\n",
              "      <th>Checkup</th>\n",
              "      <th>Exercise</th>\n",
              "      <th>Heart_Disease</th>\n",
              "      <th>Skin_Cancer</th>\n",
              "      <th>Other_Cancer</th>\n",
              "      <th>Depression</th>\n",
              "      <th>Diabetes</th>\n",
              "      <th>Arthritis</th>\n",
              "      <th>Sex</th>\n",
              "      <th>Age_Category</th>\n",
              "      <th>Smoking_History</th>\n",
              "    </tr>\n",
              "  </thead>\n",
              "  <tbody>\n",
              "    <tr>\n",
              "      <th>count</th>\n",
              "      <td>308774</td>\n",
              "      <td>308774</td>\n",
              "      <td>308774</td>\n",
              "      <td>308774</td>\n",
              "      <td>308774</td>\n",
              "      <td>308774</td>\n",
              "      <td>308774</td>\n",
              "      <td>308774</td>\n",
              "      <td>308774</td>\n",
              "      <td>308774</td>\n",
              "      <td>308774</td>\n",
              "      <td>308774</td>\n",
              "    </tr>\n",
              "    <tr>\n",
              "      <th>unique</th>\n",
              "      <td>5</td>\n",
              "      <td>5</td>\n",
              "      <td>2</td>\n",
              "      <td>2</td>\n",
              "      <td>2</td>\n",
              "      <td>2</td>\n",
              "      <td>2</td>\n",
              "      <td>4</td>\n",
              "      <td>2</td>\n",
              "      <td>2</td>\n",
              "      <td>5</td>\n",
              "      <td>2</td>\n",
              "    </tr>\n",
              "    <tr>\n",
              "      <th>top</th>\n",
              "      <td>Very Good</td>\n",
              "      <td>Past 1 year</td>\n",
              "      <td>Yes</td>\n",
              "      <td>No</td>\n",
              "      <td>No</td>\n",
              "      <td>No</td>\n",
              "      <td>No</td>\n",
              "      <td>No</td>\n",
              "      <td>No</td>\n",
              "      <td>Female</td>\n",
              "      <td>Elderly</td>\n",
              "      <td>No</td>\n",
              "    </tr>\n",
              "    <tr>\n",
              "      <th>freq</th>\n",
              "      <td>110351</td>\n",
              "      <td>239295</td>\n",
              "      <td>239305</td>\n",
              "      <td>283803</td>\n",
              "      <td>278782</td>\n",
              "      <td>278897</td>\n",
              "      <td>246875</td>\n",
              "      <td>259062</td>\n",
              "      <td>207711</td>\n",
              "      <td>160155</td>\n",
              "      <td>107492</td>\n",
              "      <td>183516</td>\n",
              "    </tr>\n",
              "  </tbody>\n",
              "</table>\n",
              "</div>"
            ],
            "text/plain": [
              "       General_Health      Checkup Exercise Heart_Disease Skin_Cancer  \\\n",
              "count          308774       308774   308774        308774      308774   \n",
              "unique              5            5        2             2           2   \n",
              "top         Very Good  Past 1 year      Yes            No          No   \n",
              "freq           110351       239295   239305        283803      278782   \n",
              "\n",
              "       Other_Cancer Depression Diabetes Arthritis     Sex Age_Category  \\\n",
              "count        308774     308774   308774    308774  308774       308774   \n",
              "unique            2          2        4         2       2            5   \n",
              "top              No         No       No        No  Female      Elderly   \n",
              "freq         278897     246875   259062    207711  160155       107492   \n",
              "\n",
              "       Smoking_History  \n",
              "count           308774  \n",
              "unique               2  \n",
              "top                 No  \n",
              "freq            183516  "
            ]
          },
          "execution_count": 382,
          "metadata": {},
          "output_type": "execute_result"
        }
      ],
      "source": [
        "heart.describe(include = 'O')"
      ]
    },
    {
      "cell_type": "code",
      "execution_count": 383,
      "metadata": {
        "colab": {
          "base_uri": "https://localhost:8080/",
          "height": 268
        },
        "id": "XAcqjZIxGHnr",
        "outputId": "adc53546-975f-4c45-913b-51db5cd4b8c6"
      },
      "outputs": [
        {
          "data": {
            "text/html": [
              "<div>\n",
              "<style scoped>\n",
              "    .dataframe tbody tr th:only-of-type {\n",
              "        vertical-align: middle;\n",
              "    }\n",
              "\n",
              "    .dataframe tbody tr th {\n",
              "        vertical-align: top;\n",
              "    }\n",
              "\n",
              "    .dataframe thead th {\n",
              "        text-align: right;\n",
              "    }\n",
              "</style>\n",
              "<table border=\"1\" class=\"dataframe\">\n",
              "  <thead>\n",
              "    <tr style=\"text-align: right;\">\n",
              "      <th></th>\n",
              "      <th>count</th>\n",
              "      <th>mean</th>\n",
              "      <th>std</th>\n",
              "      <th>min</th>\n",
              "      <th>25%</th>\n",
              "      <th>50%</th>\n",
              "      <th>75%</th>\n",
              "      <th>max</th>\n",
              "    </tr>\n",
              "  </thead>\n",
              "  <tbody>\n",
              "    <tr>\n",
              "      <th>Height_(cm)</th>\n",
              "      <td>308774.0</td>\n",
              "      <td>170.615220</td>\n",
              "      <td>10.658452</td>\n",
              "      <td>91.00</td>\n",
              "      <td>163.00</td>\n",
              "      <td>170.00</td>\n",
              "      <td>178.00</td>\n",
              "      <td>241.00</td>\n",
              "    </tr>\n",
              "    <tr>\n",
              "      <th>Weight_(kg)</th>\n",
              "      <td>308774.0</td>\n",
              "      <td>83.590399</td>\n",
              "      <td>21.344664</td>\n",
              "      <td>24.95</td>\n",
              "      <td>68.04</td>\n",
              "      <td>81.65</td>\n",
              "      <td>95.25</td>\n",
              "      <td>293.02</td>\n",
              "    </tr>\n",
              "    <tr>\n",
              "      <th>BMI</th>\n",
              "      <td>308774.0</td>\n",
              "      <td>28.626813</td>\n",
              "      <td>6.522810</td>\n",
              "      <td>12.02</td>\n",
              "      <td>24.21</td>\n",
              "      <td>27.44</td>\n",
              "      <td>31.85</td>\n",
              "      <td>99.33</td>\n",
              "    </tr>\n",
              "    <tr>\n",
              "      <th>Alcohol_Consumption</th>\n",
              "      <td>308774.0</td>\n",
              "      <td>5.097557</td>\n",
              "      <td>8.200434</td>\n",
              "      <td>0.00</td>\n",
              "      <td>0.00</td>\n",
              "      <td>1.00</td>\n",
              "      <td>6.00</td>\n",
              "      <td>30.00</td>\n",
              "    </tr>\n",
              "    <tr>\n",
              "      <th>Fruit_Consumption</th>\n",
              "      <td>308774.0</td>\n",
              "      <td>29.834290</td>\n",
              "      <td>24.877812</td>\n",
              "      <td>0.00</td>\n",
              "      <td>12.00</td>\n",
              "      <td>30.00</td>\n",
              "      <td>30.00</td>\n",
              "      <td>120.00</td>\n",
              "    </tr>\n",
              "    <tr>\n",
              "      <th>Green_Vegetables_Consumption</th>\n",
              "      <td>308774.0</td>\n",
              "      <td>15.109517</td>\n",
              "      <td>14.926912</td>\n",
              "      <td>0.00</td>\n",
              "      <td>4.00</td>\n",
              "      <td>12.00</td>\n",
              "      <td>20.00</td>\n",
              "      <td>128.00</td>\n",
              "    </tr>\n",
              "    <tr>\n",
              "      <th>FriedPotato_Consumption</th>\n",
              "      <td>308774.0</td>\n",
              "      <td>6.297237</td>\n",
              "      <td>8.583837</td>\n",
              "      <td>0.00</td>\n",
              "      <td>2.00</td>\n",
              "      <td>4.00</td>\n",
              "      <td>8.00</td>\n",
              "      <td>128.00</td>\n",
              "    </tr>\n",
              "  </tbody>\n",
              "</table>\n",
              "</div>"
            ],
            "text/plain": [
              "                                 count        mean        std    min     25%  \\\n",
              "Height_(cm)                   308774.0  170.615220  10.658452  91.00  163.00   \n",
              "Weight_(kg)                   308774.0   83.590399  21.344664  24.95   68.04   \n",
              "BMI                           308774.0   28.626813   6.522810  12.02   24.21   \n",
              "Alcohol_Consumption           308774.0    5.097557   8.200434   0.00    0.00   \n",
              "Fruit_Consumption             308774.0   29.834290  24.877812   0.00   12.00   \n",
              "Green_Vegetables_Consumption  308774.0   15.109517  14.926912   0.00    4.00   \n",
              "FriedPotato_Consumption       308774.0    6.297237   8.583837   0.00    2.00   \n",
              "\n",
              "                                 50%     75%     max  \n",
              "Height_(cm)                   170.00  178.00  241.00  \n",
              "Weight_(kg)                    81.65   95.25  293.02  \n",
              "BMI                            27.44   31.85   99.33  \n",
              "Alcohol_Consumption             1.00    6.00   30.00  \n",
              "Fruit_Consumption              30.00   30.00  120.00  \n",
              "Green_Vegetables_Consumption   12.00   20.00  128.00  \n",
              "FriedPotato_Consumption         4.00    8.00  128.00  "
            ]
          },
          "execution_count": 383,
          "metadata": {},
          "output_type": "execute_result"
        }
      ],
      "source": [
        "heart.describe().T"
      ]
    },
    {
      "cell_type": "markdown",
      "metadata": {
        "id": "PP70PMUWGtkm"
      },
      "source": [
        "** Data Preprocessing**\n",
        "\n",
        "---\n",
        "\n"
      ]
    },
    {
      "cell_type": "code",
      "execution_count": 384,
      "metadata": {},
      "outputs": [],
      "source": [
        "X = heart.iloc[:, [0, 1, 10]]"
      ]
    },
    {
      "cell_type": "code",
      "execution_count": 385,
      "metadata": {},
      "outputs": [],
      "source": [
        "# from sklearn.model_selection import train_test_split\n",
        "# X_train, X_test, y_train, y_test = train_test_split(X,heart.iloc[:,3], test_size = 0.2) "
      ]
    },
    {
      "cell_type": "code",
      "execution_count": 386,
      "metadata": {},
      "outputs": [],
      "source": [
        "from sklearn.preprocessing import OrdinalEncoder\n",
        "oe = OrdinalEncoder(categories = [['Poor', 'Fair','Good', 'Very Good', 'Excellent'],['Never', 'More than 5 years','Past 5 years', 'Past 2 years', 'Past 1 year'], ['Young', 'Adult', 'Mid-Aged', 'Senior-Adult', 'Elderly'] ])"
      ]
    },
    {
      "cell_type": "code",
      "execution_count": 387,
      "metadata": {},
      "outputs": [],
      "source": [
        "X_encoded = oe.fit_transform(X)"
      ]
    },
    {
      "cell_type": "code",
      "execution_count": 388,
      "metadata": {},
      "outputs": [
        {
          "data": {
            "text/plain": [
              "(308774, 3)"
            ]
          },
          "execution_count": 388,
          "metadata": {},
          "output_type": "execute_result"
        }
      ],
      "source": [
        "X_encoded.shape"
      ]
    },
    {
      "cell_type": "code",
      "execution_count": 389,
      "metadata": {},
      "outputs": [
        {
          "data": {
            "text/plain": [
              "array([[0., 3., 4.],\n",
              "       [3., 4., 4.],\n",
              "       [3., 4., 3.],\n",
              "       ...,\n",
              "       [3., 1., 1.],\n",
              "       [3., 4., 4.],\n",
              "       [4., 4., 2.]])"
            ]
          },
          "execution_count": 389,
          "metadata": {},
          "output_type": "execute_result"
        }
      ],
      "source": [
        "X_encoded"
      ]
    },
    {
      "cell_type": "code",
      "execution_count": 390,
      "metadata": {},
      "outputs": [
        {
          "data": {
            "text/plain": [
              "[array(['Poor', 'Fair', 'Good', 'Very Good', 'Excellent'], dtype=object),\n",
              " array(['Never', 'More than 5 years', 'Past 5 years', 'Past 2 years',\n",
              "        'Past 1 year'], dtype=object),\n",
              " array(['Young', 'Adult', 'Mid-Aged', 'Senior-Adult', 'Elderly'],\n",
              "       dtype=object)]"
            ]
          },
          "execution_count": 390,
          "metadata": {},
          "output_type": "execute_result"
        }
      ],
      "source": [
        "oe.categories_"
      ]
    },
    {
      "cell_type": "code",
      "execution_count": 391,
      "metadata": {},
      "outputs": [
        {
          "data": {
            "text/html": [
              "<div>\n",
              "<style scoped>\n",
              "    .dataframe tbody tr th:only-of-type {\n",
              "        vertical-align: middle;\n",
              "    }\n",
              "\n",
              "    .dataframe tbody tr th {\n",
              "        vertical-align: top;\n",
              "    }\n",
              "\n",
              "    .dataframe thead th {\n",
              "        text-align: right;\n",
              "    }\n",
              "</style>\n",
              "<table border=\"1\" class=\"dataframe\">\n",
              "  <thead>\n",
              "    <tr style=\"text-align: right;\">\n",
              "      <th></th>\n",
              "      <th>General_Health</th>\n",
              "      <th>Checkup</th>\n",
              "      <th>Exercise</th>\n",
              "      <th>Heart_Disease</th>\n",
              "      <th>Skin_Cancer</th>\n",
              "      <th>Other_Cancer</th>\n",
              "      <th>Depression</th>\n",
              "      <th>Diabetes</th>\n",
              "      <th>Arthritis</th>\n",
              "      <th>Sex</th>\n",
              "      <th>Age_Category</th>\n",
              "      <th>Height_(cm)</th>\n",
              "      <th>Weight_(kg)</th>\n",
              "      <th>BMI</th>\n",
              "      <th>Smoking_History</th>\n",
              "      <th>Alcohol_Consumption</th>\n",
              "      <th>Fruit_Consumption</th>\n",
              "      <th>Green_Vegetables_Consumption</th>\n",
              "      <th>FriedPotato_Consumption</th>\n",
              "    </tr>\n",
              "  </thead>\n",
              "  <tbody>\n",
              "    <tr>\n",
              "      <th>0</th>\n",
              "      <td>Poor</td>\n",
              "      <td>Past 2 years</td>\n",
              "      <td>No</td>\n",
              "      <td>No</td>\n",
              "      <td>No</td>\n",
              "      <td>No</td>\n",
              "      <td>No</td>\n",
              "      <td>No</td>\n",
              "      <td>Yes</td>\n",
              "      <td>Female</td>\n",
              "      <td>Elderly</td>\n",
              "      <td>150.0</td>\n",
              "      <td>32.66</td>\n",
              "      <td>14.54</td>\n",
              "      <td>Yes</td>\n",
              "      <td>0.0</td>\n",
              "      <td>30.0</td>\n",
              "      <td>16.0</td>\n",
              "      <td>12.0</td>\n",
              "    </tr>\n",
              "    <tr>\n",
              "      <th>1</th>\n",
              "      <td>Very Good</td>\n",
              "      <td>Past 1 year</td>\n",
              "      <td>No</td>\n",
              "      <td>Yes</td>\n",
              "      <td>No</td>\n",
              "      <td>No</td>\n",
              "      <td>No</td>\n",
              "      <td>Yes</td>\n",
              "      <td>No</td>\n",
              "      <td>Female</td>\n",
              "      <td>Elderly</td>\n",
              "      <td>165.0</td>\n",
              "      <td>77.11</td>\n",
              "      <td>28.29</td>\n",
              "      <td>No</td>\n",
              "      <td>0.0</td>\n",
              "      <td>30.0</td>\n",
              "      <td>0.0</td>\n",
              "      <td>4.0</td>\n",
              "    </tr>\n",
              "    <tr>\n",
              "      <th>2</th>\n",
              "      <td>Very Good</td>\n",
              "      <td>Past 1 year</td>\n",
              "      <td>Yes</td>\n",
              "      <td>No</td>\n",
              "      <td>No</td>\n",
              "      <td>No</td>\n",
              "      <td>No</td>\n",
              "      <td>Yes</td>\n",
              "      <td>No</td>\n",
              "      <td>Female</td>\n",
              "      <td>Senior-Adult</td>\n",
              "      <td>163.0</td>\n",
              "      <td>88.45</td>\n",
              "      <td>33.47</td>\n",
              "      <td>No</td>\n",
              "      <td>4.0</td>\n",
              "      <td>12.0</td>\n",
              "      <td>3.0</td>\n",
              "      <td>16.0</td>\n",
              "    </tr>\n",
              "    <tr>\n",
              "      <th>3</th>\n",
              "      <td>Poor</td>\n",
              "      <td>Past 1 year</td>\n",
              "      <td>Yes</td>\n",
              "      <td>Yes</td>\n",
              "      <td>No</td>\n",
              "      <td>No</td>\n",
              "      <td>No</td>\n",
              "      <td>Yes</td>\n",
              "      <td>No</td>\n",
              "      <td>Male</td>\n",
              "      <td>Elderly</td>\n",
              "      <td>180.0</td>\n",
              "      <td>93.44</td>\n",
              "      <td>28.73</td>\n",
              "      <td>No</td>\n",
              "      <td>0.0</td>\n",
              "      <td>30.0</td>\n",
              "      <td>30.0</td>\n",
              "      <td>8.0</td>\n",
              "    </tr>\n",
              "    <tr>\n",
              "      <th>4</th>\n",
              "      <td>Good</td>\n",
              "      <td>Past 1 year</td>\n",
              "      <td>No</td>\n",
              "      <td>No</td>\n",
              "      <td>No</td>\n",
              "      <td>No</td>\n",
              "      <td>No</td>\n",
              "      <td>No</td>\n",
              "      <td>No</td>\n",
              "      <td>Male</td>\n",
              "      <td>Elderly</td>\n",
              "      <td>191.0</td>\n",
              "      <td>88.45</td>\n",
              "      <td>24.37</td>\n",
              "      <td>Yes</td>\n",
              "      <td>0.0</td>\n",
              "      <td>8.0</td>\n",
              "      <td>4.0</td>\n",
              "      <td>0.0</td>\n",
              "    </tr>\n",
              "    <tr>\n",
              "      <th>...</th>\n",
              "      <td>...</td>\n",
              "      <td>...</td>\n",
              "      <td>...</td>\n",
              "      <td>...</td>\n",
              "      <td>...</td>\n",
              "      <td>...</td>\n",
              "      <td>...</td>\n",
              "      <td>...</td>\n",
              "      <td>...</td>\n",
              "      <td>...</td>\n",
              "      <td>...</td>\n",
              "      <td>...</td>\n",
              "      <td>...</td>\n",
              "      <td>...</td>\n",
              "      <td>...</td>\n",
              "      <td>...</td>\n",
              "      <td>...</td>\n",
              "      <td>...</td>\n",
              "      <td>...</td>\n",
              "    </tr>\n",
              "    <tr>\n",
              "      <th>308849</th>\n",
              "      <td>Very Good</td>\n",
              "      <td>Past 1 year</td>\n",
              "      <td>Yes</td>\n",
              "      <td>No</td>\n",
              "      <td>No</td>\n",
              "      <td>No</td>\n",
              "      <td>No</td>\n",
              "      <td>No</td>\n",
              "      <td>No</td>\n",
              "      <td>Male</td>\n",
              "      <td>Adult</td>\n",
              "      <td>168.0</td>\n",
              "      <td>81.65</td>\n",
              "      <td>29.05</td>\n",
              "      <td>No</td>\n",
              "      <td>4.0</td>\n",
              "      <td>30.0</td>\n",
              "      <td>8.0</td>\n",
              "      <td>0.0</td>\n",
              "    </tr>\n",
              "    <tr>\n",
              "      <th>308850</th>\n",
              "      <td>Fair</td>\n",
              "      <td>Past 5 years</td>\n",
              "      <td>Yes</td>\n",
              "      <td>No</td>\n",
              "      <td>No</td>\n",
              "      <td>No</td>\n",
              "      <td>No</td>\n",
              "      <td>Yes</td>\n",
              "      <td>No</td>\n",
              "      <td>Male</td>\n",
              "      <td>Elderly</td>\n",
              "      <td>180.0</td>\n",
              "      <td>69.85</td>\n",
              "      <td>21.48</td>\n",
              "      <td>No</td>\n",
              "      <td>8.0</td>\n",
              "      <td>15.0</td>\n",
              "      <td>60.0</td>\n",
              "      <td>4.0</td>\n",
              "    </tr>\n",
              "    <tr>\n",
              "      <th>308851</th>\n",
              "      <td>Very Good</td>\n",
              "      <td>More than 5 years</td>\n",
              "      <td>Yes</td>\n",
              "      <td>No</td>\n",
              "      <td>No</td>\n",
              "      <td>No</td>\n",
              "      <td>Yes</td>\n",
              "      <td>Only during pregnancy</td>\n",
              "      <td>No</td>\n",
              "      <td>Female</td>\n",
              "      <td>Adult</td>\n",
              "      <td>157.0</td>\n",
              "      <td>61.23</td>\n",
              "      <td>24.69</td>\n",
              "      <td>Yes</td>\n",
              "      <td>4.0</td>\n",
              "      <td>40.0</td>\n",
              "      <td>8.0</td>\n",
              "      <td>4.0</td>\n",
              "    </tr>\n",
              "    <tr>\n",
              "      <th>308852</th>\n",
              "      <td>Very Good</td>\n",
              "      <td>Past 1 year</td>\n",
              "      <td>Yes</td>\n",
              "      <td>No</td>\n",
              "      <td>No</td>\n",
              "      <td>No</td>\n",
              "      <td>No</td>\n",
              "      <td>No</td>\n",
              "      <td>No</td>\n",
              "      <td>Male</td>\n",
              "      <td>Elderly</td>\n",
              "      <td>183.0</td>\n",
              "      <td>79.38</td>\n",
              "      <td>23.73</td>\n",
              "      <td>No</td>\n",
              "      <td>3.0</td>\n",
              "      <td>30.0</td>\n",
              "      <td>12.0</td>\n",
              "      <td>0.0</td>\n",
              "    </tr>\n",
              "    <tr>\n",
              "      <th>308853</th>\n",
              "      <td>Excellent</td>\n",
              "      <td>Past 1 year</td>\n",
              "      <td>Yes</td>\n",
              "      <td>No</td>\n",
              "      <td>No</td>\n",
              "      <td>No</td>\n",
              "      <td>No</td>\n",
              "      <td>No</td>\n",
              "      <td>No</td>\n",
              "      <td>Female</td>\n",
              "      <td>Mid-Aged</td>\n",
              "      <td>160.0</td>\n",
              "      <td>81.19</td>\n",
              "      <td>31.71</td>\n",
              "      <td>No</td>\n",
              "      <td>1.0</td>\n",
              "      <td>5.0</td>\n",
              "      <td>12.0</td>\n",
              "      <td>1.0</td>\n",
              "    </tr>\n",
              "  </tbody>\n",
              "</table>\n",
              "<p>308774 rows × 19 columns</p>\n",
              "</div>"
            ],
            "text/plain": [
              "       General_Health            Checkup Exercise Heart_Disease Skin_Cancer  \\\n",
              "0                Poor       Past 2 years       No            No          No   \n",
              "1           Very Good        Past 1 year       No           Yes          No   \n",
              "2           Very Good        Past 1 year      Yes            No          No   \n",
              "3                Poor        Past 1 year      Yes           Yes          No   \n",
              "4                Good        Past 1 year       No            No          No   \n",
              "...               ...                ...      ...           ...         ...   \n",
              "308849      Very Good        Past 1 year      Yes            No          No   \n",
              "308850           Fair       Past 5 years      Yes            No          No   \n",
              "308851      Very Good  More than 5 years      Yes            No          No   \n",
              "308852      Very Good        Past 1 year      Yes            No          No   \n",
              "308853      Excellent        Past 1 year      Yes            No          No   \n",
              "\n",
              "       Other_Cancer Depression               Diabetes Arthritis     Sex  \\\n",
              "0                No         No                     No       Yes  Female   \n",
              "1                No         No                    Yes        No  Female   \n",
              "2                No         No                    Yes        No  Female   \n",
              "3                No         No                    Yes        No    Male   \n",
              "4                No         No                     No        No    Male   \n",
              "...             ...        ...                    ...       ...     ...   \n",
              "308849           No         No                     No        No    Male   \n",
              "308850           No         No                    Yes        No    Male   \n",
              "308851           No        Yes  Only during pregnancy        No  Female   \n",
              "308852           No         No                     No        No    Male   \n",
              "308853           No         No                     No        No  Female   \n",
              "\n",
              "        Age_Category  Height_(cm)  Weight_(kg)    BMI Smoking_History  \\\n",
              "0            Elderly        150.0        32.66  14.54             Yes   \n",
              "1            Elderly        165.0        77.11  28.29              No   \n",
              "2       Senior-Adult        163.0        88.45  33.47              No   \n",
              "3            Elderly        180.0        93.44  28.73              No   \n",
              "4            Elderly        191.0        88.45  24.37             Yes   \n",
              "...              ...          ...          ...    ...             ...   \n",
              "308849         Adult        168.0        81.65  29.05              No   \n",
              "308850       Elderly        180.0        69.85  21.48              No   \n",
              "308851         Adult        157.0        61.23  24.69             Yes   \n",
              "308852       Elderly        183.0        79.38  23.73              No   \n",
              "308853      Mid-Aged        160.0        81.19  31.71              No   \n",
              "\n",
              "        Alcohol_Consumption  Fruit_Consumption  Green_Vegetables_Consumption  \\\n",
              "0                       0.0               30.0                          16.0   \n",
              "1                       0.0               30.0                           0.0   \n",
              "2                       4.0               12.0                           3.0   \n",
              "3                       0.0               30.0                          30.0   \n",
              "4                       0.0                8.0                           4.0   \n",
              "...                     ...                ...                           ...   \n",
              "308849                  4.0               30.0                           8.0   \n",
              "308850                  8.0               15.0                          60.0   \n",
              "308851                  4.0               40.0                           8.0   \n",
              "308852                  3.0               30.0                          12.0   \n",
              "308853                  1.0                5.0                          12.0   \n",
              "\n",
              "        FriedPotato_Consumption  \n",
              "0                          12.0  \n",
              "1                           4.0  \n",
              "2                          16.0  \n",
              "3                           8.0  \n",
              "4                           0.0  \n",
              "...                         ...  \n",
              "308849                      0.0  \n",
              "308850                      4.0  \n",
              "308851                      4.0  \n",
              "308852                      0.0  \n",
              "308853                      1.0  \n",
              "\n",
              "[308774 rows x 19 columns]"
            ]
          },
          "execution_count": 391,
          "metadata": {},
          "output_type": "execute_result"
        }
      ],
      "source": [
        "heart"
      ]
    },
    {
      "cell_type": "code",
      "execution_count": 392,
      "metadata": {},
      "outputs": [],
      "source": [
        "heart['General_Health'] = X_encoded[:, 0]\n",
        "heart['Checkup'] = X_encoded[:, 1]\n",
        "heart['Age_Category'] = X_encoded[:, 2]"
      ]
    },
    {
      "cell_type": "code",
      "execution_count": 393,
      "metadata": {},
      "outputs": [
        {
          "data": {
            "text/html": [
              "<div>\n",
              "<style scoped>\n",
              "    .dataframe tbody tr th:only-of-type {\n",
              "        vertical-align: middle;\n",
              "    }\n",
              "\n",
              "    .dataframe tbody tr th {\n",
              "        vertical-align: top;\n",
              "    }\n",
              "\n",
              "    .dataframe thead th {\n",
              "        text-align: right;\n",
              "    }\n",
              "</style>\n",
              "<table border=\"1\" class=\"dataframe\">\n",
              "  <thead>\n",
              "    <tr style=\"text-align: right;\">\n",
              "      <th></th>\n",
              "      <th>General_Health</th>\n",
              "      <th>Checkup</th>\n",
              "      <th>Exercise</th>\n",
              "      <th>Heart_Disease</th>\n",
              "      <th>Skin_Cancer</th>\n",
              "      <th>Other_Cancer</th>\n",
              "      <th>Depression</th>\n",
              "      <th>Diabetes</th>\n",
              "      <th>Arthritis</th>\n",
              "      <th>Sex</th>\n",
              "      <th>Age_Category</th>\n",
              "      <th>Height_(cm)</th>\n",
              "      <th>Weight_(kg)</th>\n",
              "      <th>BMI</th>\n",
              "      <th>Smoking_History</th>\n",
              "      <th>Alcohol_Consumption</th>\n",
              "      <th>Fruit_Consumption</th>\n",
              "      <th>Green_Vegetables_Consumption</th>\n",
              "      <th>FriedPotato_Consumption</th>\n",
              "    </tr>\n",
              "  </thead>\n",
              "  <tbody>\n",
              "    <tr>\n",
              "      <th>0</th>\n",
              "      <td>0.0</td>\n",
              "      <td>3.0</td>\n",
              "      <td>No</td>\n",
              "      <td>No</td>\n",
              "      <td>No</td>\n",
              "      <td>No</td>\n",
              "      <td>No</td>\n",
              "      <td>No</td>\n",
              "      <td>Yes</td>\n",
              "      <td>Female</td>\n",
              "      <td>4.0</td>\n",
              "      <td>150.0</td>\n",
              "      <td>32.66</td>\n",
              "      <td>14.54</td>\n",
              "      <td>Yes</td>\n",
              "      <td>0.0</td>\n",
              "      <td>30.0</td>\n",
              "      <td>16.0</td>\n",
              "      <td>12.0</td>\n",
              "    </tr>\n",
              "    <tr>\n",
              "      <th>1</th>\n",
              "      <td>3.0</td>\n",
              "      <td>4.0</td>\n",
              "      <td>No</td>\n",
              "      <td>Yes</td>\n",
              "      <td>No</td>\n",
              "      <td>No</td>\n",
              "      <td>No</td>\n",
              "      <td>Yes</td>\n",
              "      <td>No</td>\n",
              "      <td>Female</td>\n",
              "      <td>4.0</td>\n",
              "      <td>165.0</td>\n",
              "      <td>77.11</td>\n",
              "      <td>28.29</td>\n",
              "      <td>No</td>\n",
              "      <td>0.0</td>\n",
              "      <td>30.0</td>\n",
              "      <td>0.0</td>\n",
              "      <td>4.0</td>\n",
              "    </tr>\n",
              "    <tr>\n",
              "      <th>2</th>\n",
              "      <td>3.0</td>\n",
              "      <td>4.0</td>\n",
              "      <td>Yes</td>\n",
              "      <td>No</td>\n",
              "      <td>No</td>\n",
              "      <td>No</td>\n",
              "      <td>No</td>\n",
              "      <td>Yes</td>\n",
              "      <td>No</td>\n",
              "      <td>Female</td>\n",
              "      <td>3.0</td>\n",
              "      <td>163.0</td>\n",
              "      <td>88.45</td>\n",
              "      <td>33.47</td>\n",
              "      <td>No</td>\n",
              "      <td>4.0</td>\n",
              "      <td>12.0</td>\n",
              "      <td>3.0</td>\n",
              "      <td>16.0</td>\n",
              "    </tr>\n",
              "    <tr>\n",
              "      <th>3</th>\n",
              "      <td>0.0</td>\n",
              "      <td>4.0</td>\n",
              "      <td>Yes</td>\n",
              "      <td>Yes</td>\n",
              "      <td>No</td>\n",
              "      <td>No</td>\n",
              "      <td>No</td>\n",
              "      <td>Yes</td>\n",
              "      <td>No</td>\n",
              "      <td>Male</td>\n",
              "      <td>4.0</td>\n",
              "      <td>180.0</td>\n",
              "      <td>93.44</td>\n",
              "      <td>28.73</td>\n",
              "      <td>No</td>\n",
              "      <td>0.0</td>\n",
              "      <td>30.0</td>\n",
              "      <td>30.0</td>\n",
              "      <td>8.0</td>\n",
              "    </tr>\n",
              "    <tr>\n",
              "      <th>4</th>\n",
              "      <td>2.0</td>\n",
              "      <td>4.0</td>\n",
              "      <td>No</td>\n",
              "      <td>No</td>\n",
              "      <td>No</td>\n",
              "      <td>No</td>\n",
              "      <td>No</td>\n",
              "      <td>No</td>\n",
              "      <td>No</td>\n",
              "      <td>Male</td>\n",
              "      <td>4.0</td>\n",
              "      <td>191.0</td>\n",
              "      <td>88.45</td>\n",
              "      <td>24.37</td>\n",
              "      <td>Yes</td>\n",
              "      <td>0.0</td>\n",
              "      <td>8.0</td>\n",
              "      <td>4.0</td>\n",
              "      <td>0.0</td>\n",
              "    </tr>\n",
              "    <tr>\n",
              "      <th>...</th>\n",
              "      <td>...</td>\n",
              "      <td>...</td>\n",
              "      <td>...</td>\n",
              "      <td>...</td>\n",
              "      <td>...</td>\n",
              "      <td>...</td>\n",
              "      <td>...</td>\n",
              "      <td>...</td>\n",
              "      <td>...</td>\n",
              "      <td>...</td>\n",
              "      <td>...</td>\n",
              "      <td>...</td>\n",
              "      <td>...</td>\n",
              "      <td>...</td>\n",
              "      <td>...</td>\n",
              "      <td>...</td>\n",
              "      <td>...</td>\n",
              "      <td>...</td>\n",
              "      <td>...</td>\n",
              "    </tr>\n",
              "    <tr>\n",
              "      <th>308849</th>\n",
              "      <td>3.0</td>\n",
              "      <td>4.0</td>\n",
              "      <td>Yes</td>\n",
              "      <td>No</td>\n",
              "      <td>No</td>\n",
              "      <td>No</td>\n",
              "      <td>No</td>\n",
              "      <td>No</td>\n",
              "      <td>No</td>\n",
              "      <td>Male</td>\n",
              "      <td>1.0</td>\n",
              "      <td>168.0</td>\n",
              "      <td>81.65</td>\n",
              "      <td>29.05</td>\n",
              "      <td>No</td>\n",
              "      <td>4.0</td>\n",
              "      <td>30.0</td>\n",
              "      <td>8.0</td>\n",
              "      <td>0.0</td>\n",
              "    </tr>\n",
              "    <tr>\n",
              "      <th>308850</th>\n",
              "      <td>1.0</td>\n",
              "      <td>2.0</td>\n",
              "      <td>Yes</td>\n",
              "      <td>No</td>\n",
              "      <td>No</td>\n",
              "      <td>No</td>\n",
              "      <td>No</td>\n",
              "      <td>Yes</td>\n",
              "      <td>No</td>\n",
              "      <td>Male</td>\n",
              "      <td>4.0</td>\n",
              "      <td>180.0</td>\n",
              "      <td>69.85</td>\n",
              "      <td>21.48</td>\n",
              "      <td>No</td>\n",
              "      <td>8.0</td>\n",
              "      <td>15.0</td>\n",
              "      <td>60.0</td>\n",
              "      <td>4.0</td>\n",
              "    </tr>\n",
              "    <tr>\n",
              "      <th>308851</th>\n",
              "      <td>3.0</td>\n",
              "      <td>1.0</td>\n",
              "      <td>Yes</td>\n",
              "      <td>No</td>\n",
              "      <td>No</td>\n",
              "      <td>No</td>\n",
              "      <td>Yes</td>\n",
              "      <td>Only during pregnancy</td>\n",
              "      <td>No</td>\n",
              "      <td>Female</td>\n",
              "      <td>1.0</td>\n",
              "      <td>157.0</td>\n",
              "      <td>61.23</td>\n",
              "      <td>24.69</td>\n",
              "      <td>Yes</td>\n",
              "      <td>4.0</td>\n",
              "      <td>40.0</td>\n",
              "      <td>8.0</td>\n",
              "      <td>4.0</td>\n",
              "    </tr>\n",
              "    <tr>\n",
              "      <th>308852</th>\n",
              "      <td>3.0</td>\n",
              "      <td>4.0</td>\n",
              "      <td>Yes</td>\n",
              "      <td>No</td>\n",
              "      <td>No</td>\n",
              "      <td>No</td>\n",
              "      <td>No</td>\n",
              "      <td>No</td>\n",
              "      <td>No</td>\n",
              "      <td>Male</td>\n",
              "      <td>4.0</td>\n",
              "      <td>183.0</td>\n",
              "      <td>79.38</td>\n",
              "      <td>23.73</td>\n",
              "      <td>No</td>\n",
              "      <td>3.0</td>\n",
              "      <td>30.0</td>\n",
              "      <td>12.0</td>\n",
              "      <td>0.0</td>\n",
              "    </tr>\n",
              "    <tr>\n",
              "      <th>308853</th>\n",
              "      <td>4.0</td>\n",
              "      <td>4.0</td>\n",
              "      <td>Yes</td>\n",
              "      <td>No</td>\n",
              "      <td>No</td>\n",
              "      <td>No</td>\n",
              "      <td>No</td>\n",
              "      <td>No</td>\n",
              "      <td>No</td>\n",
              "      <td>Female</td>\n",
              "      <td>2.0</td>\n",
              "      <td>160.0</td>\n",
              "      <td>81.19</td>\n",
              "      <td>31.71</td>\n",
              "      <td>No</td>\n",
              "      <td>1.0</td>\n",
              "      <td>5.0</td>\n",
              "      <td>12.0</td>\n",
              "      <td>1.0</td>\n",
              "    </tr>\n",
              "  </tbody>\n",
              "</table>\n",
              "<p>308774 rows × 19 columns</p>\n",
              "</div>"
            ],
            "text/plain": [
              "        General_Health  Checkup Exercise Heart_Disease Skin_Cancer  \\\n",
              "0                  0.0      3.0       No            No          No   \n",
              "1                  3.0      4.0       No           Yes          No   \n",
              "2                  3.0      4.0      Yes            No          No   \n",
              "3                  0.0      4.0      Yes           Yes          No   \n",
              "4                  2.0      4.0       No            No          No   \n",
              "...                ...      ...      ...           ...         ...   \n",
              "308849             3.0      4.0      Yes            No          No   \n",
              "308850             1.0      2.0      Yes            No          No   \n",
              "308851             3.0      1.0      Yes            No          No   \n",
              "308852             3.0      4.0      Yes            No          No   \n",
              "308853             4.0      4.0      Yes            No          No   \n",
              "\n",
              "       Other_Cancer Depression               Diabetes Arthritis     Sex  \\\n",
              "0                No         No                     No       Yes  Female   \n",
              "1                No         No                    Yes        No  Female   \n",
              "2                No         No                    Yes        No  Female   \n",
              "3                No         No                    Yes        No    Male   \n",
              "4                No         No                     No        No    Male   \n",
              "...             ...        ...                    ...       ...     ...   \n",
              "308849           No         No                     No        No    Male   \n",
              "308850           No         No                    Yes        No    Male   \n",
              "308851           No        Yes  Only during pregnancy        No  Female   \n",
              "308852           No         No                     No        No    Male   \n",
              "308853           No         No                     No        No  Female   \n",
              "\n",
              "        Age_Category  Height_(cm)  Weight_(kg)    BMI Smoking_History  \\\n",
              "0                4.0        150.0        32.66  14.54             Yes   \n",
              "1                4.0        165.0        77.11  28.29              No   \n",
              "2                3.0        163.0        88.45  33.47              No   \n",
              "3                4.0        180.0        93.44  28.73              No   \n",
              "4                4.0        191.0        88.45  24.37             Yes   \n",
              "...              ...          ...          ...    ...             ...   \n",
              "308849           1.0        168.0        81.65  29.05              No   \n",
              "308850           4.0        180.0        69.85  21.48              No   \n",
              "308851           1.0        157.0        61.23  24.69             Yes   \n",
              "308852           4.0        183.0        79.38  23.73              No   \n",
              "308853           2.0        160.0        81.19  31.71              No   \n",
              "\n",
              "        Alcohol_Consumption  Fruit_Consumption  Green_Vegetables_Consumption  \\\n",
              "0                       0.0               30.0                          16.0   \n",
              "1                       0.0               30.0                           0.0   \n",
              "2                       4.0               12.0                           3.0   \n",
              "3                       0.0               30.0                          30.0   \n",
              "4                       0.0                8.0                           4.0   \n",
              "...                     ...                ...                           ...   \n",
              "308849                  4.0               30.0                           8.0   \n",
              "308850                  8.0               15.0                          60.0   \n",
              "308851                  4.0               40.0                           8.0   \n",
              "308852                  3.0               30.0                          12.0   \n",
              "308853                  1.0                5.0                          12.0   \n",
              "\n",
              "        FriedPotato_Consumption  \n",
              "0                          12.0  \n",
              "1                           4.0  \n",
              "2                          16.0  \n",
              "3                           8.0  \n",
              "4                           0.0  \n",
              "...                         ...  \n",
              "308849                      0.0  \n",
              "308850                      4.0  \n",
              "308851                      4.0  \n",
              "308852                      0.0  \n",
              "308853                      1.0  \n",
              "\n",
              "[308774 rows x 19 columns]"
            ]
          },
          "execution_count": 393,
          "metadata": {},
          "output_type": "execute_result"
        }
      ],
      "source": [
        "heart"
      ]
    },
    {
      "cell_type": "code",
      "execution_count": 394,
      "metadata": {},
      "outputs": [],
      "source": [
        "o = heart.loc[:, ['Exercise', 'Heart_Disease', 'Skin_Cancer', 'Other_Cancer', 'Depression', 'Arthritis', 'Smoking_History']]"
      ]
    },
    {
      "cell_type": "code",
      "execution_count": 395,
      "metadata": {},
      "outputs": [],
      "source": [
        "h = pd.get_dummies(o)"
      ]
    },
    {
      "cell_type": "code",
      "execution_count": 396,
      "metadata": {},
      "outputs": [],
      "source": [
        "h = h.astype(int)"
      ]
    },
    {
      "cell_type": "code",
      "execution_count": 397,
      "metadata": {},
      "outputs": [
        {
          "data": {
            "text/html": [
              "<div>\n",
              "<style scoped>\n",
              "    .dataframe tbody tr th:only-of-type {\n",
              "        vertical-align: middle;\n",
              "    }\n",
              "\n",
              "    .dataframe tbody tr th {\n",
              "        vertical-align: top;\n",
              "    }\n",
              "\n",
              "    .dataframe thead th {\n",
              "        text-align: right;\n",
              "    }\n",
              "</style>\n",
              "<table border=\"1\" class=\"dataframe\">\n",
              "  <thead>\n",
              "    <tr style=\"text-align: right;\">\n",
              "      <th></th>\n",
              "      <th>Exercise_No</th>\n",
              "      <th>Exercise_Yes</th>\n",
              "      <th>Heart_Disease_No</th>\n",
              "      <th>Heart_Disease_Yes</th>\n",
              "      <th>Skin_Cancer_No</th>\n",
              "      <th>Skin_Cancer_Yes</th>\n",
              "      <th>Other_Cancer_No</th>\n",
              "      <th>Other_Cancer_Yes</th>\n",
              "      <th>Depression_No</th>\n",
              "      <th>Depression_Yes</th>\n",
              "      <th>Arthritis_No</th>\n",
              "      <th>Arthritis_Yes</th>\n",
              "      <th>Smoking_History_No</th>\n",
              "      <th>Smoking_History_Yes</th>\n",
              "    </tr>\n",
              "  </thead>\n",
              "  <tbody>\n",
              "    <tr>\n",
              "      <th>0</th>\n",
              "      <td>1</td>\n",
              "      <td>0</td>\n",
              "      <td>1</td>\n",
              "      <td>0</td>\n",
              "      <td>1</td>\n",
              "      <td>0</td>\n",
              "      <td>1</td>\n",
              "      <td>0</td>\n",
              "      <td>1</td>\n",
              "      <td>0</td>\n",
              "      <td>0</td>\n",
              "      <td>1</td>\n",
              "      <td>0</td>\n",
              "      <td>1</td>\n",
              "    </tr>\n",
              "    <tr>\n",
              "      <th>1</th>\n",
              "      <td>1</td>\n",
              "      <td>0</td>\n",
              "      <td>0</td>\n",
              "      <td>1</td>\n",
              "      <td>1</td>\n",
              "      <td>0</td>\n",
              "      <td>1</td>\n",
              "      <td>0</td>\n",
              "      <td>1</td>\n",
              "      <td>0</td>\n",
              "      <td>1</td>\n",
              "      <td>0</td>\n",
              "      <td>1</td>\n",
              "      <td>0</td>\n",
              "    </tr>\n",
              "    <tr>\n",
              "      <th>2</th>\n",
              "      <td>0</td>\n",
              "      <td>1</td>\n",
              "      <td>1</td>\n",
              "      <td>0</td>\n",
              "      <td>1</td>\n",
              "      <td>0</td>\n",
              "      <td>1</td>\n",
              "      <td>0</td>\n",
              "      <td>1</td>\n",
              "      <td>0</td>\n",
              "      <td>1</td>\n",
              "      <td>0</td>\n",
              "      <td>1</td>\n",
              "      <td>0</td>\n",
              "    </tr>\n",
              "    <tr>\n",
              "      <th>3</th>\n",
              "      <td>0</td>\n",
              "      <td>1</td>\n",
              "      <td>0</td>\n",
              "      <td>1</td>\n",
              "      <td>1</td>\n",
              "      <td>0</td>\n",
              "      <td>1</td>\n",
              "      <td>0</td>\n",
              "      <td>1</td>\n",
              "      <td>0</td>\n",
              "      <td>1</td>\n",
              "      <td>0</td>\n",
              "      <td>1</td>\n",
              "      <td>0</td>\n",
              "    </tr>\n",
              "    <tr>\n",
              "      <th>4</th>\n",
              "      <td>1</td>\n",
              "      <td>0</td>\n",
              "      <td>1</td>\n",
              "      <td>0</td>\n",
              "      <td>1</td>\n",
              "      <td>0</td>\n",
              "      <td>1</td>\n",
              "      <td>0</td>\n",
              "      <td>1</td>\n",
              "      <td>0</td>\n",
              "      <td>1</td>\n",
              "      <td>0</td>\n",
              "      <td>0</td>\n",
              "      <td>1</td>\n",
              "    </tr>\n",
              "    <tr>\n",
              "      <th>...</th>\n",
              "      <td>...</td>\n",
              "      <td>...</td>\n",
              "      <td>...</td>\n",
              "      <td>...</td>\n",
              "      <td>...</td>\n",
              "      <td>...</td>\n",
              "      <td>...</td>\n",
              "      <td>...</td>\n",
              "      <td>...</td>\n",
              "      <td>...</td>\n",
              "      <td>...</td>\n",
              "      <td>...</td>\n",
              "      <td>...</td>\n",
              "      <td>...</td>\n",
              "    </tr>\n",
              "    <tr>\n",
              "      <th>308849</th>\n",
              "      <td>0</td>\n",
              "      <td>1</td>\n",
              "      <td>1</td>\n",
              "      <td>0</td>\n",
              "      <td>1</td>\n",
              "      <td>0</td>\n",
              "      <td>1</td>\n",
              "      <td>0</td>\n",
              "      <td>1</td>\n",
              "      <td>0</td>\n",
              "      <td>1</td>\n",
              "      <td>0</td>\n",
              "      <td>1</td>\n",
              "      <td>0</td>\n",
              "    </tr>\n",
              "    <tr>\n",
              "      <th>308850</th>\n",
              "      <td>0</td>\n",
              "      <td>1</td>\n",
              "      <td>1</td>\n",
              "      <td>0</td>\n",
              "      <td>1</td>\n",
              "      <td>0</td>\n",
              "      <td>1</td>\n",
              "      <td>0</td>\n",
              "      <td>1</td>\n",
              "      <td>0</td>\n",
              "      <td>1</td>\n",
              "      <td>0</td>\n",
              "      <td>1</td>\n",
              "      <td>0</td>\n",
              "    </tr>\n",
              "    <tr>\n",
              "      <th>308851</th>\n",
              "      <td>0</td>\n",
              "      <td>1</td>\n",
              "      <td>1</td>\n",
              "      <td>0</td>\n",
              "      <td>1</td>\n",
              "      <td>0</td>\n",
              "      <td>1</td>\n",
              "      <td>0</td>\n",
              "      <td>0</td>\n",
              "      <td>1</td>\n",
              "      <td>1</td>\n",
              "      <td>0</td>\n",
              "      <td>0</td>\n",
              "      <td>1</td>\n",
              "    </tr>\n",
              "    <tr>\n",
              "      <th>308852</th>\n",
              "      <td>0</td>\n",
              "      <td>1</td>\n",
              "      <td>1</td>\n",
              "      <td>0</td>\n",
              "      <td>1</td>\n",
              "      <td>0</td>\n",
              "      <td>1</td>\n",
              "      <td>0</td>\n",
              "      <td>1</td>\n",
              "      <td>0</td>\n",
              "      <td>1</td>\n",
              "      <td>0</td>\n",
              "      <td>1</td>\n",
              "      <td>0</td>\n",
              "    </tr>\n",
              "    <tr>\n",
              "      <th>308853</th>\n",
              "      <td>0</td>\n",
              "      <td>1</td>\n",
              "      <td>1</td>\n",
              "      <td>0</td>\n",
              "      <td>1</td>\n",
              "      <td>0</td>\n",
              "      <td>1</td>\n",
              "      <td>0</td>\n",
              "      <td>1</td>\n",
              "      <td>0</td>\n",
              "      <td>1</td>\n",
              "      <td>0</td>\n",
              "      <td>1</td>\n",
              "      <td>0</td>\n",
              "    </tr>\n",
              "  </tbody>\n",
              "</table>\n",
              "<p>308774 rows × 14 columns</p>\n",
              "</div>"
            ],
            "text/plain": [
              "        Exercise_No  Exercise_Yes  Heart_Disease_No  Heart_Disease_Yes  \\\n",
              "0                 1             0                 1                  0   \n",
              "1                 1             0                 0                  1   \n",
              "2                 0             1                 1                  0   \n",
              "3                 0             1                 0                  1   \n",
              "4                 1             0                 1                  0   \n",
              "...             ...           ...               ...                ...   \n",
              "308849            0             1                 1                  0   \n",
              "308850            0             1                 1                  0   \n",
              "308851            0             1                 1                  0   \n",
              "308852            0             1                 1                  0   \n",
              "308853            0             1                 1                  0   \n",
              "\n",
              "        Skin_Cancer_No  Skin_Cancer_Yes  Other_Cancer_No  Other_Cancer_Yes  \\\n",
              "0                    1                0                1                 0   \n",
              "1                    1                0                1                 0   \n",
              "2                    1                0                1                 0   \n",
              "3                    1                0                1                 0   \n",
              "4                    1                0                1                 0   \n",
              "...                ...              ...              ...               ...   \n",
              "308849               1                0                1                 0   \n",
              "308850               1                0                1                 0   \n",
              "308851               1                0                1                 0   \n",
              "308852               1                0                1                 0   \n",
              "308853               1                0                1                 0   \n",
              "\n",
              "        Depression_No  Depression_Yes  Arthritis_No  Arthritis_Yes  \\\n",
              "0                   1               0             0              1   \n",
              "1                   1               0             1              0   \n",
              "2                   1               0             1              0   \n",
              "3                   1               0             1              0   \n",
              "4                   1               0             1              0   \n",
              "...               ...             ...           ...            ...   \n",
              "308849              1               0             1              0   \n",
              "308850              1               0             1              0   \n",
              "308851              0               1             1              0   \n",
              "308852              1               0             1              0   \n",
              "308853              1               0             1              0   \n",
              "\n",
              "        Smoking_History_No  Smoking_History_Yes  \n",
              "0                        0                    1  \n",
              "1                        1                    0  \n",
              "2                        1                    0  \n",
              "3                        1                    0  \n",
              "4                        0                    1  \n",
              "...                    ...                  ...  \n",
              "308849                   1                    0  \n",
              "308850                   1                    0  \n",
              "308851                   0                    1  \n",
              "308852                   1                    0  \n",
              "308853                   1                    0  \n",
              "\n",
              "[308774 rows x 14 columns]"
            ]
          },
          "execution_count": 397,
          "metadata": {},
          "output_type": "execute_result"
        }
      ],
      "source": [
        "h"
      ]
    },
    {
      "cell_type": "code",
      "execution_count": 398,
      "metadata": {},
      "outputs": [
        {
          "data": {
            "text/html": [
              "<div>\n",
              "<style scoped>\n",
              "    .dataframe tbody tr th:only-of-type {\n",
              "        vertical-align: middle;\n",
              "    }\n",
              "\n",
              "    .dataframe tbody tr th {\n",
              "        vertical-align: top;\n",
              "    }\n",
              "\n",
              "    .dataframe thead th {\n",
              "        text-align: right;\n",
              "    }\n",
              "</style>\n",
              "<table border=\"1\" class=\"dataframe\">\n",
              "  <thead>\n",
              "    <tr style=\"text-align: right;\">\n",
              "      <th></th>\n",
              "      <th>General_Health</th>\n",
              "      <th>Checkup</th>\n",
              "      <th>Diabetes</th>\n",
              "      <th>Sex</th>\n",
              "      <th>Age_Category</th>\n",
              "      <th>Height_(cm)</th>\n",
              "      <th>Weight_(kg)</th>\n",
              "      <th>BMI</th>\n",
              "      <th>Alcohol_Consumption</th>\n",
              "      <th>Fruit_Consumption</th>\n",
              "      <th>...</th>\n",
              "      <th>Skin_Cancer_No</th>\n",
              "      <th>Skin_Cancer_Yes</th>\n",
              "      <th>Other_Cancer_No</th>\n",
              "      <th>Other_Cancer_Yes</th>\n",
              "      <th>Depression_No</th>\n",
              "      <th>Depression_Yes</th>\n",
              "      <th>Arthritis_No</th>\n",
              "      <th>Arthritis_Yes</th>\n",
              "      <th>Smoking_History_No</th>\n",
              "      <th>Smoking_History_Yes</th>\n",
              "    </tr>\n",
              "  </thead>\n",
              "  <tbody>\n",
              "    <tr>\n",
              "      <th>0</th>\n",
              "      <td>0.0</td>\n",
              "      <td>3.0</td>\n",
              "      <td>No</td>\n",
              "      <td>Female</td>\n",
              "      <td>4.0</td>\n",
              "      <td>150.0</td>\n",
              "      <td>32.66</td>\n",
              "      <td>14.54</td>\n",
              "      <td>0.0</td>\n",
              "      <td>30.0</td>\n",
              "      <td>...</td>\n",
              "      <td>1</td>\n",
              "      <td>0</td>\n",
              "      <td>1</td>\n",
              "      <td>0</td>\n",
              "      <td>1</td>\n",
              "      <td>0</td>\n",
              "      <td>0</td>\n",
              "      <td>1</td>\n",
              "      <td>0</td>\n",
              "      <td>1</td>\n",
              "    </tr>\n",
              "    <tr>\n",
              "      <th>1</th>\n",
              "      <td>3.0</td>\n",
              "      <td>4.0</td>\n",
              "      <td>Yes</td>\n",
              "      <td>Female</td>\n",
              "      <td>4.0</td>\n",
              "      <td>165.0</td>\n",
              "      <td>77.11</td>\n",
              "      <td>28.29</td>\n",
              "      <td>0.0</td>\n",
              "      <td>30.0</td>\n",
              "      <td>...</td>\n",
              "      <td>1</td>\n",
              "      <td>0</td>\n",
              "      <td>1</td>\n",
              "      <td>0</td>\n",
              "      <td>1</td>\n",
              "      <td>0</td>\n",
              "      <td>1</td>\n",
              "      <td>0</td>\n",
              "      <td>1</td>\n",
              "      <td>0</td>\n",
              "    </tr>\n",
              "    <tr>\n",
              "      <th>2</th>\n",
              "      <td>3.0</td>\n",
              "      <td>4.0</td>\n",
              "      <td>Yes</td>\n",
              "      <td>Female</td>\n",
              "      <td>3.0</td>\n",
              "      <td>163.0</td>\n",
              "      <td>88.45</td>\n",
              "      <td>33.47</td>\n",
              "      <td>4.0</td>\n",
              "      <td>12.0</td>\n",
              "      <td>...</td>\n",
              "      <td>1</td>\n",
              "      <td>0</td>\n",
              "      <td>1</td>\n",
              "      <td>0</td>\n",
              "      <td>1</td>\n",
              "      <td>0</td>\n",
              "      <td>1</td>\n",
              "      <td>0</td>\n",
              "      <td>1</td>\n",
              "      <td>0</td>\n",
              "    </tr>\n",
              "    <tr>\n",
              "      <th>3</th>\n",
              "      <td>0.0</td>\n",
              "      <td>4.0</td>\n",
              "      <td>Yes</td>\n",
              "      <td>Male</td>\n",
              "      <td>4.0</td>\n",
              "      <td>180.0</td>\n",
              "      <td>93.44</td>\n",
              "      <td>28.73</td>\n",
              "      <td>0.0</td>\n",
              "      <td>30.0</td>\n",
              "      <td>...</td>\n",
              "      <td>1</td>\n",
              "      <td>0</td>\n",
              "      <td>1</td>\n",
              "      <td>0</td>\n",
              "      <td>1</td>\n",
              "      <td>0</td>\n",
              "      <td>1</td>\n",
              "      <td>0</td>\n",
              "      <td>1</td>\n",
              "      <td>0</td>\n",
              "    </tr>\n",
              "    <tr>\n",
              "      <th>4</th>\n",
              "      <td>2.0</td>\n",
              "      <td>4.0</td>\n",
              "      <td>No</td>\n",
              "      <td>Male</td>\n",
              "      <td>4.0</td>\n",
              "      <td>191.0</td>\n",
              "      <td>88.45</td>\n",
              "      <td>24.37</td>\n",
              "      <td>0.0</td>\n",
              "      <td>8.0</td>\n",
              "      <td>...</td>\n",
              "      <td>1</td>\n",
              "      <td>0</td>\n",
              "      <td>1</td>\n",
              "      <td>0</td>\n",
              "      <td>1</td>\n",
              "      <td>0</td>\n",
              "      <td>1</td>\n",
              "      <td>0</td>\n",
              "      <td>0</td>\n",
              "      <td>1</td>\n",
              "    </tr>\n",
              "    <tr>\n",
              "      <th>...</th>\n",
              "      <td>...</td>\n",
              "      <td>...</td>\n",
              "      <td>...</td>\n",
              "      <td>...</td>\n",
              "      <td>...</td>\n",
              "      <td>...</td>\n",
              "      <td>...</td>\n",
              "      <td>...</td>\n",
              "      <td>...</td>\n",
              "      <td>...</td>\n",
              "      <td>...</td>\n",
              "      <td>...</td>\n",
              "      <td>...</td>\n",
              "      <td>...</td>\n",
              "      <td>...</td>\n",
              "      <td>...</td>\n",
              "      <td>...</td>\n",
              "      <td>...</td>\n",
              "      <td>...</td>\n",
              "      <td>...</td>\n",
              "      <td>...</td>\n",
              "    </tr>\n",
              "    <tr>\n",
              "      <th>308849</th>\n",
              "      <td>3.0</td>\n",
              "      <td>4.0</td>\n",
              "      <td>No</td>\n",
              "      <td>Male</td>\n",
              "      <td>1.0</td>\n",
              "      <td>168.0</td>\n",
              "      <td>81.65</td>\n",
              "      <td>29.05</td>\n",
              "      <td>4.0</td>\n",
              "      <td>30.0</td>\n",
              "      <td>...</td>\n",
              "      <td>1</td>\n",
              "      <td>0</td>\n",
              "      <td>1</td>\n",
              "      <td>0</td>\n",
              "      <td>1</td>\n",
              "      <td>0</td>\n",
              "      <td>1</td>\n",
              "      <td>0</td>\n",
              "      <td>1</td>\n",
              "      <td>0</td>\n",
              "    </tr>\n",
              "    <tr>\n",
              "      <th>308850</th>\n",
              "      <td>1.0</td>\n",
              "      <td>2.0</td>\n",
              "      <td>Yes</td>\n",
              "      <td>Male</td>\n",
              "      <td>4.0</td>\n",
              "      <td>180.0</td>\n",
              "      <td>69.85</td>\n",
              "      <td>21.48</td>\n",
              "      <td>8.0</td>\n",
              "      <td>15.0</td>\n",
              "      <td>...</td>\n",
              "      <td>1</td>\n",
              "      <td>0</td>\n",
              "      <td>1</td>\n",
              "      <td>0</td>\n",
              "      <td>1</td>\n",
              "      <td>0</td>\n",
              "      <td>1</td>\n",
              "      <td>0</td>\n",
              "      <td>1</td>\n",
              "      <td>0</td>\n",
              "    </tr>\n",
              "    <tr>\n",
              "      <th>308851</th>\n",
              "      <td>3.0</td>\n",
              "      <td>1.0</td>\n",
              "      <td>Only during pregnancy</td>\n",
              "      <td>Female</td>\n",
              "      <td>1.0</td>\n",
              "      <td>157.0</td>\n",
              "      <td>61.23</td>\n",
              "      <td>24.69</td>\n",
              "      <td>4.0</td>\n",
              "      <td>40.0</td>\n",
              "      <td>...</td>\n",
              "      <td>1</td>\n",
              "      <td>0</td>\n",
              "      <td>1</td>\n",
              "      <td>0</td>\n",
              "      <td>0</td>\n",
              "      <td>1</td>\n",
              "      <td>1</td>\n",
              "      <td>0</td>\n",
              "      <td>0</td>\n",
              "      <td>1</td>\n",
              "    </tr>\n",
              "    <tr>\n",
              "      <th>308852</th>\n",
              "      <td>3.0</td>\n",
              "      <td>4.0</td>\n",
              "      <td>No</td>\n",
              "      <td>Male</td>\n",
              "      <td>4.0</td>\n",
              "      <td>183.0</td>\n",
              "      <td>79.38</td>\n",
              "      <td>23.73</td>\n",
              "      <td>3.0</td>\n",
              "      <td>30.0</td>\n",
              "      <td>...</td>\n",
              "      <td>1</td>\n",
              "      <td>0</td>\n",
              "      <td>1</td>\n",
              "      <td>0</td>\n",
              "      <td>1</td>\n",
              "      <td>0</td>\n",
              "      <td>1</td>\n",
              "      <td>0</td>\n",
              "      <td>1</td>\n",
              "      <td>0</td>\n",
              "    </tr>\n",
              "    <tr>\n",
              "      <th>308853</th>\n",
              "      <td>4.0</td>\n",
              "      <td>4.0</td>\n",
              "      <td>No</td>\n",
              "      <td>Female</td>\n",
              "      <td>2.0</td>\n",
              "      <td>160.0</td>\n",
              "      <td>81.19</td>\n",
              "      <td>31.71</td>\n",
              "      <td>1.0</td>\n",
              "      <td>5.0</td>\n",
              "      <td>...</td>\n",
              "      <td>1</td>\n",
              "      <td>0</td>\n",
              "      <td>1</td>\n",
              "      <td>0</td>\n",
              "      <td>1</td>\n",
              "      <td>0</td>\n",
              "      <td>1</td>\n",
              "      <td>0</td>\n",
              "      <td>1</td>\n",
              "      <td>0</td>\n",
              "    </tr>\n",
              "  </tbody>\n",
              "</table>\n",
              "<p>308774 rows × 26 columns</p>\n",
              "</div>"
            ],
            "text/plain": [
              "        General_Health  Checkup               Diabetes     Sex  Age_Category  \\\n",
              "0                  0.0      3.0                     No  Female           4.0   \n",
              "1                  3.0      4.0                    Yes  Female           4.0   \n",
              "2                  3.0      4.0                    Yes  Female           3.0   \n",
              "3                  0.0      4.0                    Yes    Male           4.0   \n",
              "4                  2.0      4.0                     No    Male           4.0   \n",
              "...                ...      ...                    ...     ...           ...   \n",
              "308849             3.0      4.0                     No    Male           1.0   \n",
              "308850             1.0      2.0                    Yes    Male           4.0   \n",
              "308851             3.0      1.0  Only during pregnancy  Female           1.0   \n",
              "308852             3.0      4.0                     No    Male           4.0   \n",
              "308853             4.0      4.0                     No  Female           2.0   \n",
              "\n",
              "        Height_(cm)  Weight_(kg)    BMI  Alcohol_Consumption  \\\n",
              "0             150.0        32.66  14.54                  0.0   \n",
              "1             165.0        77.11  28.29                  0.0   \n",
              "2             163.0        88.45  33.47                  4.0   \n",
              "3             180.0        93.44  28.73                  0.0   \n",
              "4             191.0        88.45  24.37                  0.0   \n",
              "...             ...          ...    ...                  ...   \n",
              "308849        168.0        81.65  29.05                  4.0   \n",
              "308850        180.0        69.85  21.48                  8.0   \n",
              "308851        157.0        61.23  24.69                  4.0   \n",
              "308852        183.0        79.38  23.73                  3.0   \n",
              "308853        160.0        81.19  31.71                  1.0   \n",
              "\n",
              "        Fruit_Consumption  ...  Skin_Cancer_No  Skin_Cancer_Yes  \\\n",
              "0                    30.0  ...               1                0   \n",
              "1                    30.0  ...               1                0   \n",
              "2                    12.0  ...               1                0   \n",
              "3                    30.0  ...               1                0   \n",
              "4                     8.0  ...               1                0   \n",
              "...                   ...  ...             ...              ...   \n",
              "308849               30.0  ...               1                0   \n",
              "308850               15.0  ...               1                0   \n",
              "308851               40.0  ...               1                0   \n",
              "308852               30.0  ...               1                0   \n",
              "308853                5.0  ...               1                0   \n",
              "\n",
              "        Other_Cancer_No  Other_Cancer_Yes  Depression_No  Depression_Yes  \\\n",
              "0                     1                 0              1               0   \n",
              "1                     1                 0              1               0   \n",
              "2                     1                 0              1               0   \n",
              "3                     1                 0              1               0   \n",
              "4                     1                 0              1               0   \n",
              "...                 ...               ...            ...             ...   \n",
              "308849                1                 0              1               0   \n",
              "308850                1                 0              1               0   \n",
              "308851                1                 0              0               1   \n",
              "308852                1                 0              1               0   \n",
              "308853                1                 0              1               0   \n",
              "\n",
              "        Arthritis_No  Arthritis_Yes  Smoking_History_No  Smoking_History_Yes  \n",
              "0                  0              1                   0                    1  \n",
              "1                  1              0                   1                    0  \n",
              "2                  1              0                   1                    0  \n",
              "3                  1              0                   1                    0  \n",
              "4                  1              0                   0                    1  \n",
              "...              ...            ...                 ...                  ...  \n",
              "308849             1              0                   1                    0  \n",
              "308850             1              0                   1                    0  \n",
              "308851             1              0                   0                    1  \n",
              "308852             1              0                   1                    0  \n",
              "308853             1              0                   1                    0  \n",
              "\n",
              "[308774 rows x 26 columns]"
            ]
          },
          "execution_count": 398,
          "metadata": {},
          "output_type": "execute_result"
        }
      ],
      "source": [
        "encoded_df = pd.DataFrame(h, columns=['Exercise_No', 'Exercise_Yes', 'Heart_Disease_No', 'Heart_Disease_Yes', 'Skin_Cancer_No', 'Skin_Cancer_Yes', 'Other_Cancer_No', 'Other_Cancer_Yes', 'Depression_No', 'Depression_Yes', 'Arthritis_No', 'Arthritis_Yes', 'Smoking_History_No', 'Smoking_History_Yes'])\n",
        "heart_encoded = pd.concat([heart, encoded_df], axis=1)\n",
        "\n",
        "heart_encoded.drop(columns=['Exercise', 'Heart_Disease', 'Skin_Cancer', 'Other_Cancer', 'Depression', 'Arthritis', 'Smoking_History'], inplace=True)\n",
        "heart_encoded"
      ]
    },
    {
      "cell_type": "code",
      "execution_count": 399,
      "metadata": {},
      "outputs": [],
      "source": [
        "heart_encoded = heart_encoded.drop(columns=['Exercise_No', 'Heart_Disease_No', 'Skin_Cancer_No', 'Other_Cancer_No', 'Depression_No', 'Arthritis_No', 'Smoking_History_No'])"
      ]
    },
    {
      "cell_type": "code",
      "execution_count": 400,
      "metadata": {
        "id": "oO15G-bwG1k8"
      },
      "outputs": [
        {
          "name": "stdout",
          "output_type": "stream",
          "text": [
            "Unique labels: ['No' 'No Pre Diabetes' 'Only during pregnancy' 'Yes']\n"
          ]
        }
      ],
      "source": [
        "from sklearn.preprocessing import LabelEncoder\n",
        "\n",
        "label_encoder = LabelEncoder()\n",
        "\n",
        "heart_encoded['Sex'] = label_encoder.fit_transform(heart_encoded['Sex'])\n",
        "heart_encoded['Diabetes'] = label_encoder.fit_transform(heart_encoded['Diabetes'])\n",
        "unique_labels = label_encoder.classes_\n",
        "print(\"Unique labels:\", unique_labels)"
      ]
    },
    {
      "cell_type": "code",
      "execution_count": 401,
      "metadata": {},
      "outputs": [
        {
          "data": {
            "text/plain": [
              "Index(['General_Health', 'Checkup', 'Diabetes', 'Sex', 'Age_Category',\n",
              "       'Height_(cm)', 'Weight_(kg)', 'BMI', 'Alcohol_Consumption',\n",
              "       'Fruit_Consumption', 'Green_Vegetables_Consumption',\n",
              "       'FriedPotato_Consumption', 'Exercise_Yes', 'Heart_Disease_Yes',\n",
              "       'Skin_Cancer_Yes', 'Other_Cancer_Yes', 'Depression_Yes',\n",
              "       'Arthritis_Yes', 'Smoking_History_Yes'],\n",
              "      dtype='object')"
            ]
          },
          "execution_count": 401,
          "metadata": {},
          "output_type": "execute_result"
        }
      ],
      "source": [
        "heart_encoded.columns"
      ]
    },
    {
      "cell_type": "code",
      "execution_count": 402,
      "metadata": {},
      "outputs": [
        {
          "name": "stdout",
          "output_type": "stream",
          "text": [
            "<class 'pandas.core.frame.DataFrame'>\n",
            "Index: 308774 entries, 0 to 308853\n",
            "Data columns (total 19 columns):\n",
            " #   Column                        Non-Null Count   Dtype  \n",
            "---  ------                        --------------   -----  \n",
            " 0   General_Health                308774 non-null  float64\n",
            " 1   Checkup                       308774 non-null  float64\n",
            " 2   Diabetes                      308774 non-null  int32  \n",
            " 3   Sex                           308774 non-null  int32  \n",
            " 4   Age_Category                  308774 non-null  float64\n",
            " 5   Height_(cm)                   308774 non-null  float64\n",
            " 6   Weight_(kg)                   308774 non-null  float64\n",
            " 7   BMI                           308774 non-null  float64\n",
            " 8   Alcohol_Consumption           308774 non-null  float64\n",
            " 9   Fruit_Consumption             308774 non-null  float64\n",
            " 10  Green_Vegetables_Consumption  308774 non-null  float64\n",
            " 11  FriedPotato_Consumption       308774 non-null  float64\n",
            " 12  Exercise_Yes                  308774 non-null  int32  \n",
            " 13  Heart_Disease_Yes             308774 non-null  int32  \n",
            " 14  Skin_Cancer_Yes               308774 non-null  int32  \n",
            " 15  Other_Cancer_Yes              308774 non-null  int32  \n",
            " 16  Depression_Yes                308774 non-null  int32  \n",
            " 17  Arthritis_Yes                 308774 non-null  int32  \n",
            " 18  Smoking_History_Yes           308774 non-null  int32  \n",
            "dtypes: float64(10), int32(9)\n",
            "memory usage: 36.5 MB\n"
          ]
        }
      ],
      "source": [
        "heart_encoded.info()"
      ]
    },
    {
      "cell_type": "code",
      "execution_count": 403,
      "metadata": {},
      "outputs": [
        {
          "name": "stdout",
          "output_type": "stream",
          "text": [
            "<bound method DataFrame.corr of         General_Health  Checkup  Diabetes  Sex  Age_Category  Height_(cm)  \\\n",
            "0                  0.0      3.0         0    0           4.0        150.0   \n",
            "1                  3.0      4.0         3    0           4.0        165.0   \n",
            "2                  3.0      4.0         3    0           3.0        163.0   \n",
            "3                  0.0      4.0         3    1           4.0        180.0   \n",
            "4                  2.0      4.0         0    1           4.0        191.0   \n",
            "...                ...      ...       ...  ...           ...          ...   \n",
            "308849             3.0      4.0         0    1           1.0        168.0   \n",
            "308850             1.0      2.0         3    1           4.0        180.0   \n",
            "308851             3.0      1.0         2    0           1.0        157.0   \n",
            "308852             3.0      4.0         0    1           4.0        183.0   \n",
            "308853             4.0      4.0         0    0           2.0        160.0   \n",
            "\n",
            "        Weight_(kg)    BMI  Alcohol_Consumption  Fruit_Consumption  \\\n",
            "0             32.66  14.54                  0.0               30.0   \n",
            "1             77.11  28.29                  0.0               30.0   \n",
            "2             88.45  33.47                  4.0               12.0   \n",
            "3             93.44  28.73                  0.0               30.0   \n",
            "4             88.45  24.37                  0.0                8.0   \n",
            "...             ...    ...                  ...                ...   \n",
            "308849        81.65  29.05                  4.0               30.0   \n",
            "308850        69.85  21.48                  8.0               15.0   \n",
            "308851        61.23  24.69                  4.0               40.0   \n",
            "308852        79.38  23.73                  3.0               30.0   \n",
            "308853        81.19  31.71                  1.0                5.0   \n",
            "\n",
            "        Green_Vegetables_Consumption  FriedPotato_Consumption  Exercise_Yes  \\\n",
            "0                               16.0                     12.0             0   \n",
            "1                                0.0                      4.0             0   \n",
            "2                                3.0                     16.0             1   \n",
            "3                               30.0                      8.0             1   \n",
            "4                                4.0                      0.0             0   \n",
            "...                              ...                      ...           ...   \n",
            "308849                           8.0                      0.0             1   \n",
            "308850                          60.0                      4.0             1   \n",
            "308851                           8.0                      4.0             1   \n",
            "308852                          12.0                      0.0             1   \n",
            "308853                          12.0                      1.0             1   \n",
            "\n",
            "        Heart_Disease_Yes  Skin_Cancer_Yes  Other_Cancer_Yes  Depression_Yes  \\\n",
            "0                       0                0                 0               0   \n",
            "1                       1                0                 0               0   \n",
            "2                       0                0                 0               0   \n",
            "3                       1                0                 0               0   \n",
            "4                       0                0                 0               0   \n",
            "...                   ...              ...               ...             ...   \n",
            "308849                  0                0                 0               0   \n",
            "308850                  0                0                 0               0   \n",
            "308851                  0                0                 0               1   \n",
            "308852                  0                0                 0               0   \n",
            "308853                  0                0                 0               0   \n",
            "\n",
            "        Arthritis_Yes  Smoking_History_Yes  \n",
            "0                   1                    1  \n",
            "1                   0                    0  \n",
            "2                   0                    0  \n",
            "3                   0                    0  \n",
            "4                   0                    1  \n",
            "...               ...                  ...  \n",
            "308849              0                    0  \n",
            "308850              0                    0  \n",
            "308851              0                    1  \n",
            "308852              0                    0  \n",
            "308853              0                    0  \n",
            "\n",
            "[308774 rows x 19 columns]>\n"
          ]
        }
      ],
      "source": [
        "correlation_matrix = heart_encoded.corr\n",
        "print(correlation_matrix)"
      ]
    },
    {
      "cell_type": "code",
      "execution_count": 404,
      "metadata": {},
      "outputs": [
        {
          "data": {
            "image/png": "[encoded data removed]",
            "text/plain": [
              "<Figure size 1000x800 with 2 Axes>"
            ]
          },
          "metadata": {},
          "output_type": "display_data"
        }
      ],
      "source": [
        "import seaborn as sns\n",
        "cor = heart_encoded.corr()\n",
        "plt.figure(figsize=(10, 8))\n",
        "sns.heatmap(cor, annot=True, cmap='coolwarm', fmt=\".2f\")\n",
        "plt.title('Correlation Heatmap')\n",
        "plt.show()"
      ]
    },
    {
      "cell_type": "code",
      "execution_count": 405,
      "metadata": {},
      "outputs": [],
      "source": [
        "heart_encoded = heart_encoded.drop(columns=['Weight_(kg)', 'Height_(cm)', 'BMI'])"
      ]
    },
    {
      "cell_type": "code",
      "execution_count": 406,
      "metadata": {},
      "outputs": [
        {
          "name": "stdout",
          "output_type": "stream",
          "text": [
            "Explained variance ratio: [0.19766224 0.19522917 0.14614444 0.14038953 0.11953225 0.10202823\n",
            " 0.09901414]\n",
            "Number of principal components: 7\n"
          ]
        }
      ],
      "source": [
        "from sklearn.decomposition import PCA\n",
        "from sklearn.preprocessing import StandardScaler\n",
        "\n",
        "# Assuming 'features' is a DataFrame containing the features you listed\n",
        "# Extract features from the DataFrame\n",
        "columns_to_include = ['General_Health', 'Checkup', 'Diabetes', 'Sex', 'Age_Category',\n",
        "                      'Alcohol_Consumption',\n",
        "                      'Fruit_Consumption', 'Green_Vegetables_Consumption',\n",
        "                      'FriedPotato_Consumption', 'Exercise_Yes', 'Heart_Disease_Yes',\n",
        "                      'Skin_Cancer_Yes', 'Other_Cancer_Yes', 'Depression_Yes',\n",
        "                      'Arthritis_Yes', 'Smoking_History_Yes']\n",
        "features = heart_encoded.loc[:, columns_to_include]\n",
        "\n",
        "numeric_features = features.select_dtypes(include=['float64', 'int64'])\n",
        "\n",
        "# Extract features from the DataFrame\n",
        "X1 = numeric_features.values\n",
        "\n",
        "# Standardize the features\n",
        "scaler = StandardScaler()\n",
        "X1_scaled = scaler.fit_transform(X1)\n",
        "\n",
        "# Apply PCA\n",
        "pca = PCA(n_components=0.95)  # You can specify the variance to be explained\n",
        "X1_pca = pca.fit_transform(X1_scaled)\n",
        "\n",
        "# Print the explained variance ratio\n",
        "print(\"Explained variance ratio:\", pca.explained_variance_ratio_)\n",
        "\n",
        "# Print the number of principal components retained\n",
        "print(\"Number of principal components:\", pca.n_components_)\n",
        "\n",
        "# Now X_pca contains the transformed features with reduced dimensionality\n"
      ]
    },
    {
      "cell_type": "code",
      "execution_count": 407,
      "metadata": {},
      "outputs": [
        {
          "data": {
            "text/plain": [
              "(308774, 7)"
            ]
          },
          "execution_count": 407,
          "metadata": {},
          "output_type": "execute_result"
        }
      ],
      "source": [
        "X1_pca.shape"
      ]
    },
    {
      "cell_type": "code",
      "execution_count": 408,
      "metadata": {
        "id": "qISDUsqVHDzR"
      },
      "outputs": [],
      "source": [
        "X = X1_pca  # Features\n",
        "y = heart_encoded['Heart_Disease_Yes']  # Target variable"
      ]
    },
    {
      "cell_type": "code",
      "execution_count": 409,
      "metadata": {},
      "outputs": [
        {
          "data": {
            "text/plain": [
              "(308774,)"
            ]
          },
          "execution_count": 409,
          "metadata": {},
          "output_type": "execute_result"
        }
      ],
      "source": [
        "y.shape"
      ]
    },
    {
      "cell_type": "code",
      "execution_count": 410,
      "metadata": {},
      "outputs": [],
      "source": [
        "smote = SMOTE(random_state=2)\n",
        "X_balanced, y_balanced = smote.fit_resample(X, y)"
      ]
    },
    {
      "cell_type": "code",
      "execution_count": 411,
      "metadata": {
        "id": "RO9cdAUBHLYT"
      },
      "outputs": [],
      "source": [
        "# splitting the data into training and testing sets for diabetes balanced\n",
        "X_train, X_test, y_train, y_test = train_test_split(X_balanced, y_balanced, test_size=0.2, random_state=2)"
      ]
    },
    {
      "cell_type": "code",
      "execution_count": 412,
      "metadata": {
        "id": "d_Jk0S_ZHPf9"
      },
      "outputs": [],
      "source": [
        "# feature scaling on diabetes\n",
        "scaler_d = StandardScaler()\n",
        "X_train_scaled = scaler_d.fit_transform(X_train)\n",
        "X_test_scaled = scaler_d.transform(X_test)"
      ]
    },
    {
      "cell_type": "markdown",
      "metadata": {
        "id": "3_-r86HZHZo2"
      },
      "source": [
        "**Model Building**\n",
        "\n",
        "---\n",
        "\n"
      ]
    },
    {
      "cell_type": "code",
      "execution_count": 413,
      "metadata": {
        "id": "bi66j6NDHdNX"
      },
      "outputs": [
        {
          "data": {
            "text/html": [
              "<style>#sk-container-id-7 {color: black;}#sk-container-id-7 pre{padding: 0;}#sk-container-id-7 div.sk-toggleable {background-color: white;}#sk-container-id-7 label.sk-toggleable__label {cursor: pointer;display: block;width: 100%;margin-bottom: 0;padding: 0.3em;box-sizing: border-box;text-align: center;}#sk-container-id-7 label.sk-toggleable__label-arrow:before {content: \"▸\";float: left;margin-right: 0.25em;color: #696969;}#sk-container-id-7 label.sk-toggleable__label-arrow:hover:before {color: black;}#sk-container-id-7 div.sk-estimator:hover label.sk-toggleable__label-arrow:before {color: black;}#sk-container-id-7 div.sk-toggleable__content {max-height: 0;max-width: 0;overflow: hidden;text-align: left;background-color: #f0f8ff;}#sk-container-id-7 div.sk-toggleable__content pre {margin: 0.2em;color: black;border-radius: 0.25em;background-color: #f0f8ff;}#sk-container-id-7 input.sk-toggleable__control:checked~div.sk-toggleable__content {max-height: 200px;max-width: 100%;overflow: auto;}#sk-container-id-7 input.sk-toggleable__control:checked~label.sk-toggleable__label-arrow:before {content: \"▾\";}#sk-container-id-7 div.sk-estimator input.sk-toggleable__control:checked~label.sk-toggleable__label {background-color: #d4ebff;}#sk-container-id-7 div.sk-label input.sk-toggleable__control:checked~label.sk-toggleable__label {background-color: #d4ebff;}#sk-container-id-7 input.sk-hidden--visually {border: 0;clip: rect(1px 1px 1px 1px);clip: rect(1px, 1px, 1px, 1px);height: 1px;margin: -1px;overflow: hidden;padding: 0;position: absolute;width: 1px;}#sk-container-id-7 div.sk-estimator {font-family: monospace;background-color: #f0f8ff;border: 1px dotted black;border-radius: 0.25em;box-sizing: border-box;margin-bottom: 0.5em;}#sk-container-id-7 div.sk-estimator:hover {background-color: #d4ebff;}#sk-container-id-7 div.sk-parallel-item::after {content: \"\";width: 100%;border-bottom: 1px solid gray;flex-grow: 1;}#sk-container-id-7 div.sk-label:hover label.sk-toggleable__label {background-color: #d4ebff;}#sk-container-id-7 div.sk-serial::before {content: \"\";position: absolute;border-left: 1px solid gray;box-sizing: border-box;top: 0;bottom: 0;left: 50%;z-index: 0;}#sk-container-id-7 div.sk-serial {display: flex;flex-direction: column;align-items: center;background-color: white;padding-right: 0.2em;padding-left: 0.2em;position: relative;}#sk-container-id-7 div.sk-item {position: relative;z-index: 1;}#sk-container-id-7 div.sk-parallel {display: flex;align-items: stretch;justify-content: center;background-color: white;position: relative;}#sk-container-id-7 div.sk-item::before, #sk-container-id-7 div.sk-parallel-item::before {content: \"\";position: absolute;border-left: 1px solid gray;box-sizing: border-box;top: 0;bottom: 0;left: 50%;z-index: -1;}#sk-container-id-7 div.sk-parallel-item {display: flex;flex-direction: column;z-index: 1;position: relative;background-color: white;}#sk-container-id-7 div.sk-parallel-item:first-child::after {align-self: flex-end;width: 50%;}#sk-container-id-7 div.sk-parallel-item:last-child::after {align-self: flex-start;width: 50%;}#sk-container-id-7 div.sk-parallel-item:only-child::after {width: 0;}#sk-container-id-7 div.sk-dashed-wrapped {border: 1px dashed gray;margin: 0 0.4em 0.5em 0.4em;box-sizing: border-box;padding-bottom: 0.4em;background-color: white;}#sk-container-id-7 div.sk-label label {font-family: monospace;font-weight: bold;display: inline-block;line-height: 1.2em;}#sk-container-id-7 div.sk-label-container {text-align: center;}#sk-container-id-7 div.sk-container {/* jupyter's `normalize.less` sets `[hidden] { display: none; }` but bootstrap.min.css set `[hidden] { display: none !important; }` so we also need the `!important` here to be able to override the default hidden behavior on the sphinx rendered scikit-learn.org. See: https://github.com/scikit-learn/scikit-learn/issues/21755 */display: inline-block !important;position: relative;}#sk-container-id-7 div.sk-text-repr-fallback {display: none;}</style><div id=\"sk-container-id-7\" class=\"sk-top-container\"><div class=\"sk-text-repr-fallback\"><pre>LogisticRegression()</pre><b>In a Jupyter environment, please rerun this cell to show the HTML representation or trust the notebook. <br />On GitHub, the HTML representation is unable to render, please try loading this page with nbviewer.org.</b></div><div class=\"sk-container\" hidden><div class=\"sk-item\"><div class=\"sk-estimator sk-toggleable\"><input class=\"sk-toggleable__control sk-hidden--visually\" id=\"sk-estimator-id-7\" type=\"checkbox\" checked><label for=\"sk-estimator-id-7\" class=\"sk-toggleable__label sk-toggleable__label-arrow\">LogisticRegression</label><div class=\"sk-toggleable__content\"><pre>LogisticRegression()</pre></div></div></div></div></div>"
            ],
            "text/plain": [
              "LogisticRegression()"
            ]
          },
          "execution_count": 413,
          "metadata": {},
          "output_type": "execute_result"
        }
      ],
      "source": [
        "# Create the model\n",
        "lr_d = LogisticRegression()\n",
        "lr_d.fit(X_train_scaled, y_train)"
      ]
    },
    {
      "cell_type": "code",
      "execution_count": 414,
      "metadata": {},
      "outputs": [
        {
          "name": "stdout",
          "output_type": "stream",
          "text": [
            "              precision    recall  f1-score   support\n",
            "\n",
            "           0       0.77      0.66      0.71     56436\n",
            "           1       0.71      0.81      0.76     57086\n",
            "\n",
            "    accuracy                           0.74    113522\n",
            "   macro avg       0.74      0.74      0.74    113522\n",
            "weighted avg       0.74      0.74      0.74    113522\n",
            "\n"
          ]
        }
      ],
      "source": [
        "y_pred = lr_d.predict(X_test_scaled)\n",
        "print(classification_report(y_test, y_pred))"
      ]
    },
    {
      "cell_type": "code",
      "execution_count": 419,
      "metadata": {},
      "outputs": [
        {
          "data": {
            "text/plain": [
              "array([0, 1, 0, ..., 1, 1, 1])"
            ]
          },
          "execution_count": 419,
          "metadata": {},
          "output_type": "execute_result"
        }
      ],
      "source": [
        "y_pred"
      ]
    },
    {
      "cell_type": "code",
      "execution_count": 415,
      "metadata": {},
      "outputs": [
        {
          "name": "stdout",
          "output_type": "stream",
          "text": [
            "Accuracy: 0.7366149292648121\n",
            "Precision: 0.7084368387156132\n",
            "Recall: 0.8093052587324387\n",
            "F1 Score: 0.7555192150449714\n",
            "Confusion Matrix:\n",
            "[[37422 19014]\n",
            " [10886 46200]]\n"
          ]
        }
      ],
      "source": [
        "from sklearn.metrics import accuracy_score, precision_score, recall_score, f1_score, confusion_matrix\n",
        "\n",
        "# Compute accuracy\n",
        "accuracy = accuracy_score(y_test, y_pred)\n",
        "print(\"Accuracy:\", accuracy)\n",
        "\n",
        "# Compute precision\n",
        "precision = precision_score(y_test, y_pred)\n",
        "print(\"Precision:\", precision)\n",
        "\n",
        "# Compute recall\n",
        "recall = recall_score(y_test, y_pred)\n",
        "print(\"Recall:\", recall)\n",
        "\n",
        "# Compute F1-score\n",
        "f1 = f1_score(y_test, y_pred)\n",
        "print(\"F1 Score:\", f1)\n",
        "\n",
        "# Compute confusion matrix\n",
        "conf_matrix = confusion_matrix(y_test, y_pred)\n",
        "print(\"Confusion Matrix:\")\n",
        "print(conf_matrix)\n"
      ]
    },
    {
      "cell_type": "markdown",
      "metadata": {
        "id": "bvpoVIxoHlLA"
      },
      "source": [
        "**Model Evaluation**\n",
        "\n",
        "---\n",
        "\n"
      ]
    },
    {
      "cell_type": "code",
      "execution_count": 416,
      "metadata": {
        "id": "leE5dGpUHkYv"
      },
      "outputs": [],
      "source": [
        "def plot_classification_report(report, title):\n",
        "    lines = report.split('\\n')[2:-5]\n",
        "    classes = []\n",
        "    precision = []\n",
        "    recall = []\n",
        "    f1_score = []\n",
        "    support = []\n",
        "    for line in lines:\n",
        "        row_data = line.split()\n",
        "        classes.append(row_data[0])\n",
        "        precision.append(float(row_data[1]))\n",
        "        recall.append(float(row_data[2]))\n",
        "        f1_score.append(float(row_data[3]))\n",
        "        support.append(int(row_data[4]))\n",
        "\n",
        "    fig = go.Figure()\n",
        "    fig.add_trace(go.Bar(x=classes, y=precision, name='Precision', marker_color = colors[0]))\n",
        "    fig.add_trace(go.Bar(x=classes, y=recall, name='Recall', marker_color = colors[1]))\n",
        "    fig.add_trace(go.Bar(x=classes, y=f1_score, name='F1-Score', marker_color = colors[2]))\n",
        "\n",
        "    fig.update_layout(title=title, xaxis_title='Class', yaxis_title='Score', barmode='group', xaxis={'categoryorder': 'total descending'}, plot_bgcolor='white')\n",
        "\n",
        "    fig.show()"
      ]
    },
    {
      "cell_type": "code",
      "execution_count": 417,
      "metadata": {
        "id": "TOyuB3sFHykH"
      },
      "outputs": [],
      "source": [
        "# Classification reports for different algorithms\n",
        "\n",
        "lr_d_report = classification_report(y_test, y_pred)"
      ]
    },
    {
      "cell_type": "code",
      "execution_count": 418,
      "metadata": {
        "colab": {
          "base_uri": "https://localhost:8080/",
          "height": 741
        },
        "id": "-3AJkpCNIB-X",
        "outputId": "4c456305-dac2-4284-c10a-2b72cbad09a5"
      },
      "outputs": [
        {
          "name": "stdout",
          "output_type": "stream",
          "text": [
            "======================================== Logistic regression report: ============================================= \n",
            "\n",
            "              precision    recall  f1-score   support\n",
            "\n",
            "           0       0.77      0.66      0.71     56436\n",
            "           1       0.71      0.81      0.76     57086\n",
            "\n",
            "    accuracy                           0.74    113522\n",
            "   macro avg       0.74      0.74      0.74    113522\n",
            "weighted avg       0.74      0.74      0.74    113522\n",
            "\n"
          ]
        },
        {
          "data": {
            "application/vnd.plotly.v1+json": {
              "config": {
                "plotlyServerURL": "https://plot.ly"
              },
              "data": [
                {
                  "marker": {
                    "color": "#f0f921"
                  },
                  "name": "Precision",
                  "type": "bar",
                  "x": [
                    "0",
                    "1"
                  ],
                  "y": [
                    0.77,
                    0.71
                  ]
                },
                {
                  "marker": {
                    "color": "#fdca26"
                  },
                  "name": "Recall",
                  "type": "bar",
                  "x": [
                    "0",
                    "1"
                  ],
                  "y": [
                    0.66,
                    0.81
                  ]
                },
                {
                  "marker": {
                    "color": "#fb9f3a"
                  },
                  "name": "F1-Score",
                  "type": "bar",
                  "x": [
                    "0",
                    "1"
                  ],
                  "y": [
                    0.71,
                    0.76
                  ]
                }
              ],
              "layout": {
                "barmode": "group",
                "plot_bgcolor": "white",
                "template": {
                  "data": {
                    "bar": [
                      {
                        "error_x": {
                          "color": "#2a3f5f"
                        },
                        "error_y": {
                          "color": "#2a3f5f"
                        },
                        "marker": {
                          "line": {
                            "color": "#E5ECF6",
                            "width": 0.5
                          },
                          "pattern": {
                            "fillmode": "overlay",
                            "size": 10,
                            "solidity": 0.2
                          }
                        },
                        "type": "bar"
                      }
                    ],
                    "barpolar": [
                      {
                        "marker": {
                          "line": {
                            "color": "#E5ECF6",
                            "width": 0.5
                          },
                          "pattern": {
                            "fillmode": "overlay",
                            "size": 10,
                            "solidity": 0.2
                          }
                        },
                        "type": "barpolar"
                      }
                    ],
                    "carpet": [
                      {
                        "aaxis": {
                          "endlinecolor": "#2a3f5f",
                          "gridcolor": "white",
                          "linecolor": "white",
                          "minorgridcolor": "white",
                          "startlinecolor": "#2a3f5f"
                        },
                        "baxis": {
                          "endlinecolor": "#2a3f5f",
                          "gridcolor": "white",
                          "linecolor": "white",
                          "minorgridcolor": "white",
                          "startlinecolor": "#2a3f5f"
                        },
                        "type": "carpet"
                      }
                    ],
                    "choropleth": [
                      {
                        "colorbar": {
                          "outlinewidth": 0,
                          "ticks": ""
                        },
                        "type": "choropleth"
                      }
                    ],
                    "contour": [
                      {
                        "colorbar": {
                          "outlinewidth": 0,
                          "ticks": ""
                        },
                        "colorscale": [
                          [
                            0,
                            "#0d0887"
                          ],
                          [
                            0.1111111111111111,
                            "#46039f"
                          ],
                          [
                            0.2222222222222222,
                            "#7201a8"
                          ],
                          [
                            0.3333333333333333,
                            "#9c179e"
                          ],
                          [
                            0.4444444444444444,
                            "#bd3786"
                          ],
                          [
                            0.5555555555555556,
                            "#d8576b"
                          ],
                          [
                            0.6666666666666666,
                            "#ed7953"
                          ],
                          [
                            0.7777777777777778,
                            "#fb9f3a"
                          ],
                          [
                            0.8888888888888888,
                            "#fdca26"
                          ],
                          [
                            1,
                            "#f0f921"
                          ]
                        ],
                        "type": "contour"
                      }
                    ],
                    "contourcarpet": [
                      {
                        "colorbar": {
                          "outlinewidth": 0,
                          "ticks": ""
                        },
                        "type": "contourcarpet"
                      }
                    ],
                    "heatmap": [
                      {
                        "colorbar": {
                          "outlinewidth": 0,
                          "ticks": ""
                        },
                        "colorscale": [
                          [
                            0,
                            "#0d0887"
                          ],
                          [
                            0.1111111111111111,
                            "#46039f"
                          ],
                          [
                            0.2222222222222222,
                            "#7201a8"
                          ],
                          [
                            0.3333333333333333,
                            "#9c179e"
                          ],
                          [
                            0.4444444444444444,
                            "#bd3786"
                          ],
                          [
                            0.5555555555555556,
                            "#d8576b"
                          ],
                          [
                            0.6666666666666666,
                            "#ed7953"
                          ],
                          [
                            0.7777777777777778,
                            "#fb9f3a"
                          ],
                          [
                            0.8888888888888888,
                            "#fdca26"
                          ],
                          [
                            1,
                            "#f0f921"
                          ]
                        ],
                        "type": "heatmap"
                      }
                    ],
                    "heatmapgl": [
                      {
                        "colorbar": {
                          "outlinewidth": 0,
                          "ticks": ""
                        },
                        "colorscale": [
                          [
                            0,
                            "#0d0887"
                          ],
                          [
                            0.1111111111111111,
                            "#46039f"
                          ],
                          [
                            0.2222222222222222,
                            "#7201a8"
                          ],
                          [
                            0.3333333333333333,
                            "#9c179e"
                          ],
                          [
                            0.4444444444444444,
                            "#bd3786"
                          ],
                          [
                            0.5555555555555556,
                            "#d8576b"
                          ],
                          [
                            0.6666666666666666,
                            "#ed7953"
                          ],
                          [
                            0.7777777777777778,
                            "#fb9f3a"
                          ],
                          [
                            0.8888888888888888,
                            "#fdca26"
                          ],
                          [
                            1,
                            "#f0f921"
                          ]
                        ],
                        "type": "heatmapgl"
                      }
                    ],
                    "histogram": [
                      {
                        "marker": {
                          "pattern": {
                            "fillmode": "overlay",
                            "size": 10,
                            "solidity": 0.2
                          }
                        },
                        "type": "histogram"
                      }
                    ],
                    "histogram2d": [
                      {
                        "colorbar": {
                          "outlinewidth": 0,
                          "ticks": ""
                        },
                        "colorscale": [
                          [
                            0,
                            "#0d0887"
                          ],
                          [
                            0.1111111111111111,
                            "#46039f"
                          ],
                          [
                            0.2222222222222222,
                            "#7201a8"
                          ],
                          [
                            0.3333333333333333,
                            "#9c179e"
                          ],
                          [
                            0.4444444444444444,
                            "#bd3786"
                          ],
                          [
                            0.5555555555555556,
                            "#d8576b"
                          ],
                          [
                            0.6666666666666666,
                            "#ed7953"
                          ],
                          [
                            0.7777777777777778,
                            "#fb9f3a"
                          ],
                          [
                            0.8888888888888888,
                            "#fdca26"
                          ],
                          [
                            1,
                            "#f0f921"
                          ]
                        ],
                        "type": "histogram2d"
                      }
                    ],
                    "histogram2dcontour": [
                      {
                        "colorbar": {
                          "outlinewidth": 0,
                          "ticks": ""
                        },
                        "colorscale": [
                          [
                            0,
                            "#0d0887"
                          ],
                          [
                            0.1111111111111111,
                            "#46039f"
                          ],
                          [
                            0.2222222222222222,
                            "#7201a8"
                          ],
                          [
                            0.3333333333333333,
                            "#9c179e"
                          ],
                          [
                            0.4444444444444444,
                            "#bd3786"
                          ],
                          [
                            0.5555555555555556,
                            "#d8576b"
                          ],
                          [
                            0.6666666666666666,
                            "#ed7953"
                          ],
                          [
                            0.7777777777777778,
                            "#fb9f3a"
                          ],
                          [
                            0.8888888888888888,
                            "#fdca26"
                          ],
                          [
                            1,
                            "#f0f921"
                          ]
                        ],
                        "type": "histogram2dcontour"
                      }
                    ],
                    "mesh3d": [
                      {
                        "colorbar": {
                          "outlinewidth": 0,
                          "ticks": ""
                        },
                        "type": "mesh3d"
                      }
                    ],
                    "parcoords": [
                      {
                        "line": {
                          "colorbar": {
                            "outlinewidth": 0,
                            "ticks": ""
                          }
                        },
                        "type": "parcoords"
                      }
                    ],
                    "pie": [
                      {
                        "automargin": true,
                        "type": "pie"
                      }
                    ],
                    "scatter": [
                      {
                        "fillpattern": {
                          "fillmode": "overlay",
                          "size": 10,
                          "solidity": 0.2
                        },
                        "type": "scatter"
                      }
                    ],
                    "scatter3d": [
                      {
                        "line": {
                          "colorbar": {
                            "outlinewidth": 0,
                            "ticks": ""
                          }
                        },
                        "marker": {
                          "colorbar": {
                            "outlinewidth": 0,
                            "ticks": ""
                          }
                        },
                        "type": "scatter3d"
                      }
                    ],
                    "scattercarpet": [
                      {
                        "marker": {
                          "colorbar": {
                            "outlinewidth": 0,
                            "ticks": ""
                          }
                        },
                        "type": "scattercarpet"
                      }
                    ],
                    "scattergeo": [
                      {
                        "marker": {
                          "colorbar": {
                            "outlinewidth": 0,
                            "ticks": ""
                          }
                        },
                        "type": "scattergeo"
                      }
                    ],
                    "scattergl": [
                      {
                        "marker": {
                          "colorbar": {
                            "outlinewidth": 0,
                            "ticks": ""
                          }
                        },
                        "type": "scattergl"
                      }
                    ],
                    "scattermapbox": [
                      {
                        "marker": {
                          "colorbar": {
                            "outlinewidth": 0,
                            "ticks": ""
                          }
                        },
                        "type": "scattermapbox"
                      }
                    ],
                    "scatterpolar": [
                      {
                        "marker": {
                          "colorbar": {
                            "outlinewidth": 0,
                            "ticks": ""
                          }
                        },
                        "type": "scatterpolar"
                      }
                    ],
                    "scatterpolargl": [
                      {
                        "marker": {
                          "colorbar": {
                            "outlinewidth": 0,
                            "ticks": ""
                          }
                        },
                        "type": "scatterpolargl"
                      }
                    ],
                    "scatterternary": [
                      {
                        "marker": {
                          "colorbar": {
                            "outlinewidth": 0,
                            "ticks": ""
                          }
                        },
                        "type": "scatterternary"
                      }
                    ],
                    "surface": [
                      {
                        "colorbar": {
                          "outlinewidth": 0,
                          "ticks": ""
                        },
                        "colorscale": [
                          [
                            0,
                            "#0d0887"
                          ],
                          [
                            0.1111111111111111,
                            "#46039f"
                          ],
                          [
                            0.2222222222222222,
                            "#7201a8"
                          ],
                          [
                            0.3333333333333333,
                            "#9c179e"
                          ],
                          [
                            0.4444444444444444,
                            "#bd3786"
                          ],
                          [
                            0.5555555555555556,
                            "#d8576b"
                          ],
                          [
                            0.6666666666666666,
                            "#ed7953"
                          ],
                          [
                            0.7777777777777778,
                            "#fb9f3a"
                          ],
                          [
                            0.8888888888888888,
                            "#fdca26"
                          ],
                          [
                            1,
                            "#f0f921"
                          ]
                        ],
                        "type": "surface"
                      }
                    ],
                    "table": [
                      {
                        "cells": {
                          "fill": {
                            "color": "#EBF0F8"
                          },
                          "line": {
                            "color": "white"
                          }
                        },
                        "header": {
                          "fill": {
                            "color": "#C8D4E3"
                          },
                          "line": {
                            "color": "white"
                          }
                        },
                        "type": "table"
                      }
                    ]
                  },
                  "layout": {
                    "annotationdefaults": {
                      "arrowcolor": "#2a3f5f",
                      "arrowhead": 0,
                      "arrowwidth": 1
                    },
                    "autotypenumbers": "strict",
                    "coloraxis": {
                      "colorbar": {
                        "outlinewidth": 0,
                        "ticks": ""
                      }
                    },
                    "colorscale": {
                      "diverging": [
                        [
                          0,
                          "#8e0152"
                        ],
                        [
                          0.1,
                          "#c51b7d"
                        ],
                        [
                          0.2,
                          "#de77ae"
                        ],
                        [
                          0.3,
                          "#f1b6da"
                        ],
                        [
                          0.4,
                          "#fde0ef"
                        ],
                        [
                          0.5,
                          "#f7f7f7"
                        ],
                        [
                          0.6,
                          "#e6f5d0"
                        ],
                        [
                          0.7,
                          "#b8e186"
                        ],
                        [
                          0.8,
                          "#7fbc41"
                        ],
                        [
                          0.9,
                          "#4d9221"
                        ],
                        [
                          1,
                          "#276419"
                        ]
                      ],
                      "sequential": [
                        [
                          0,
                          "#0d0887"
                        ],
                        [
                          0.1111111111111111,
                          "#46039f"
                        ],
                        [
                          0.2222222222222222,
                          "#7201a8"
                        ],
                        [
                          0.3333333333333333,
                          "#9c179e"
                        ],
                        [
                          0.4444444444444444,
                          "#bd3786"
                        ],
                        [
                          0.5555555555555556,
                          "#d8576b"
                        ],
                        [
                          0.6666666666666666,
                          "#ed7953"
                        ],
                        [
                          0.7777777777777778,
                          "#fb9f3a"
                        ],
                        [
                          0.8888888888888888,
                          "#fdca26"
                        ],
                        [
                          1,
                          "#f0f921"
                        ]
                      ],
                      "sequentialminus": [
                        [
                          0,
                          "#0d0887"
                        ],
                        [
                          0.1111111111111111,
                          "#46039f"
                        ],
                        [
                          0.2222222222222222,
                          "#7201a8"
                        ],
                        [
                          0.3333333333333333,
                          "#9c179e"
                        ],
                        [
                          0.4444444444444444,
                          "#bd3786"
                        ],
                        [
                          0.5555555555555556,
                          "#d8576b"
                        ],
                        [
                          0.6666666666666666,
                          "#ed7953"
                        ],
                        [
                          0.7777777777777778,
                          "#fb9f3a"
                        ],
                        [
                          0.8888888888888888,
                          "#fdca26"
                        ],
                        [
                          1,
                          "#f0f921"
                        ]
                      ]
                    },
                    "colorway": [
                      "#636efa",
                      "#EF553B",
                      "#00cc96",
                      "#ab63fa",
                      "#FFA15A",
                      "#19d3f3",
                      "#FF6692",
                      "#B6E880",
                      "#FF97FF",
                      "#FECB52"
                    ],
                    "font": {
                      "color": "#2a3f5f"
                    },
                    "geo": {
                      "bgcolor": "white",
                      "lakecolor": "white",
                      "landcolor": "#E5ECF6",
                      "showlakes": true,
                      "showland": true,
                      "subunitcolor": "white"
                    },
                    "hoverlabel": {
                      "align": "left"
                    },
                    "hovermode": "closest",
                    "mapbox": {
                      "style": "light"
                    },
                    "paper_bgcolor": "white",
                    "plot_bgcolor": "#E5ECF6",
                    "polar": {
                      "angularaxis": {
                        "gridcolor": "white",
                        "linecolor": "white",
                        "ticks": ""
                      },
                      "bgcolor": "#E5ECF6",
                      "radialaxis": {
                        "gridcolor": "white",
                        "linecolor": "white",
                        "ticks": ""
                      }
                    },
                    "scene": {
                      "xaxis": {
                        "backgroundcolor": "#E5ECF6",
                        "gridcolor": "white",
                        "gridwidth": 2,
                        "linecolor": "white",
                        "showbackground": true,
                        "ticks": "",
                        "zerolinecolor": "white"
                      },
                      "yaxis": {
                        "backgroundcolor": "#E5ECF6",
                        "gridcolor": "white",
                        "gridwidth": 2,
                        "linecolor": "white",
                        "showbackground": true,
                        "ticks": "",
                        "zerolinecolor": "white"
                      },
                      "zaxis": {
                        "backgroundcolor": "#E5ECF6",
                        "gridcolor": "white",
                        "gridwidth": 2,
                        "linecolor": "white",
                        "showbackground": true,
                        "ticks": "",
                        "zerolinecolor": "white"
                      }
                    },
                    "shapedefaults": {
                      "line": {
                        "color": "#2a3f5f"
                      }
                    },
                    "ternary": {
                      "aaxis": {
                        "gridcolor": "white",
                        "linecolor": "white",
                        "ticks": ""
                      },
                      "baxis": {
                        "gridcolor": "white",
                        "linecolor": "white",
                        "ticks": ""
                      },
                      "bgcolor": "#E5ECF6",
                      "caxis": {
                        "gridcolor": "white",
                        "linecolor": "white",
                        "ticks": ""
                      }
                    },
                    "title": {
                      "x": 0.05
                    },
                    "xaxis": {
                      "automargin": true,
                      "gridcolor": "white",
                      "linecolor": "white",
                      "ticks": "",
                      "title": {
                        "standoff": 15
                      },
                      "zerolinecolor": "white",
                      "zerolinewidth": 2
                    },
                    "yaxis": {
                      "automargin": true,
                      "gridcolor": "white",
                      "linecolor": "white",
                      "ticks": "",
                      "title": {
                        "standoff": 15
                      },
                      "zerolinecolor": "white",
                      "zerolinewidth": 2
                    }
                  }
                },
                "title": {
                  "text": "Logistic Regression Classification Report Visualization"
                },
                "xaxis": {
                  "categoryorder": "total descending",
                  "title": {
                    "text": "Class"
                  }
                },
                "yaxis": {
                  "title": {
                    "text": "Score"
                  }
                }
              }
            }
          },
          "metadata": {},
          "output_type": "display_data"
        }
      ],
      "source": [
        "# Plot classification reports\n",
        "\n",
        "print(\"=\"*40, \"Logistic regression report:\", \"=\"*45, '\\n')\n",
        "print(lr_d_report)\n",
        "plot_classification_report(lr_d_report, \"Logistic Regression Classification Report Visualization\")"
      ]
    }
  ],
  "metadata": {
    "colab": {
      "provenance": []
    },
    "kernelspec": {
      "display_name": "Python 3",
      "name": "python3"
    },
    "language_info": {
      "codemirror_mode": {
        "name": "ipython",
        "version": 3
      },
      "file_extension": ".py",
      "mimetype": "text/x-python",
      "name": "python",
      "nbconvert_exporter": "python",
      "pygments_lexer": "ipython3",
      "version": "3.11.7"
    }
  },
  "nbformat": 4,
  "nbformat_minor": 0
}
